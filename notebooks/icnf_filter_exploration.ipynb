{
 "cells": [
  {
   "cell_type": "markdown",
   "id": "90b9d7ed-c4f0-4276-8a0f-7c69f4710de5",
   "metadata": {},
   "source": [
    "# Imports"
   ]
  },
  {
   "cell_type": "code",
   "execution_count": 1,
   "id": "9cf596b6-dd4d-40ab-aa5c-48dfd60b32cb",
   "metadata": {},
   "outputs": [],
   "source": [
    "%matplotlib inline"
   ]
  },
  {
   "cell_type": "code",
   "execution_count": 121,
   "id": "2a0f11ce-8f57-4490-8dfa-0baa2246ed0c",
   "metadata": {},
   "outputs": [],
   "source": [
    "import pandas as pd\n",
    "from pathlib import Path\n",
    "import seaborn as sns"
   ]
  },
  {
   "cell_type": "markdown",
   "id": "5df683fa-fda5-4098-83bc-b993b14b1b54",
   "metadata": {},
   "source": [
    "# Constants"
   ]
  },
  {
   "cell_type": "code",
   "execution_count": 3,
   "id": "6354102e-8a01-4d3f-8567-1e94b6ab0a3c",
   "metadata": {},
   "outputs": [],
   "source": [
    "icnf_file_2015 = Path('/home/dany/Dev/mp-incendios/data/raw/icnf_2015.csv')\n",
    "icnf_file_2016 = Path('/home/dany/Dev/mp-incendios/data/raw/icnf_2016.csv')\n",
    "icnf_file_2017 = Path('/home/dany/Dev/mp-incendios/data/raw/icnf_2017.csv')\n",
    "icnf_file_2018 = Path('/home/dany/Dev/mp-incendios/data/raw/icnf_2018.csv')\n",
    "icnf_file_2019 = Path('/home/dany/Dev/mp-incendios/data/raw/icnf_2019.csv')\n",
    "icnf_file_2020 = Path('/home/dany/Dev/mp-incendios/data/raw/icnf_2020.csv')\n",
    "icnf_file_2021 = Path('/home/dany/Dev/mp-incendios/data/raw/icnf_2021.csv')"
   ]
  },
  {
   "cell_type": "markdown",
   "id": "8278539b-a8d2-4b9f-9950-f6320ed51ac1",
   "metadata": {},
   "source": [
    "# Reading"
   ]
  },
  {
   "cell_type": "code",
   "execution_count": 4,
   "id": "a7ac6ac9-c2bf-4b9a-8591-bd70547366ea",
   "metadata": {},
   "outputs": [
    {
     "name": "stderr",
     "output_type": "stream",
     "text": [
      "<ipython-input-4-818b719ab57e>:1: DtypeWarning: Columns (66,67) have mixed types.Specify dtype option on import or set low_memory=False.\n",
      "  icnf_files = [pd.read_csv(i) for i in [icnf_file_2015, icnf_file_2016, icnf_file_2017, icnf_file_2018, icnf_file_2019, icnf_file_2020, icnf_file_2021]]\n",
      "<ipython-input-4-818b719ab57e>:1: DtypeWarning: Columns (66,67,69,71,72,75,76) have mixed types.Specify dtype option on import or set low_memory=False.\n",
      "  icnf_files = [pd.read_csv(i) for i in [icnf_file_2015, icnf_file_2016, icnf_file_2017, icnf_file_2018, icnf_file_2019, icnf_file_2020, icnf_file_2021]]\n"
     ]
    }
   ],
   "source": [
    "icnf_files = [pd.read_csv(i) for i in [icnf_file_2015, icnf_file_2016, icnf_file_2017, icnf_file_2018, icnf_file_2019, icnf_file_2020, icnf_file_2021]]"
   ]
  },
  {
   "cell_type": "code",
   "execution_count": 5,
   "id": "a9562919-502a-41b6-b5d4-d170366acc44",
   "metadata": {},
   "outputs": [
    {
     "data": {
      "text/plain": [
       "[(19669, 77),\n",
       " (16131, 77),\n",
       " (21074, 77),\n",
       " (12296, 77),\n",
       " (10909, 77),\n",
       " (9713, 77),\n",
       " (6996, 77)]"
      ]
     },
     "execution_count": 5,
     "metadata": {},
     "output_type": "execute_result"
    }
   ],
   "source": [
    "[i.shape for i in icnf_files]"
   ]
  },
  {
   "cell_type": "code",
   "execution_count": 6,
   "id": "f9dd6d81-bb2c-48f4-bee9-efa8035d083f",
   "metadata": {},
   "outputs": [
    {
     "data": {
      "text/plain": [
       "Index(['Unnamed: 0', 'DISTRITO', 'TIPO', 'ANO', 'AREAPOV', 'AREAMATO',\n",
       "       'AREAAGRIC', 'AREATOTAL', 'REACENDIMENTOS', 'QUEIMADA', 'FALSOALARME',\n",
       "       'FOGACHO', 'INCENDIO', 'AGRICOLA', 'NCCO', 'NOMECCO', 'DATAALERTA',\n",
       "       'HORAALERTA', 'LOCAL', 'CONCELHO', 'FREGUESIA', 'FONTEALERTA', 'INE',\n",
       "       'X', 'Y', 'DIA', 'MES', 'HORA', 'OPERADOR', 'PERIMETRO', 'APS', 'CAUSA',\n",
       "       'TIPOCAUSA', 'DHINICIO', 'DHFIM', 'DURACAO', 'HAHORA', 'DATAEXTINCAO',\n",
       "       'HORAEXTINCAO', 'DATA1INTERVENCAO', 'HORA1INTERVENCAO', 'QUEIMA', 'LAT',\n",
       "       'LON', 'CAUSAFAMILIA', 'TEMPERATURA', 'HUMIDADERELATIVA',\n",
       "       'VENTOINTENSIDADE', 'VENTOINTENSIDADE_VETOR', 'VENTODIRECAO_VETOR',\n",
       "       'PRECEPITACAO', 'FFMC', 'DMC', 'DC', 'ISI', 'BUI', 'FWI', 'DSR', 'THC',\n",
       "       'MODFARSITE', 'ALTITUDEMEDIA', 'DECLIVEMEDIO', 'HORASEXPOSICAOMEDIA',\n",
       "       'DENDIDADERV', 'COSN5VARIEDADE', 'AREAMANCHAMODFARSITE',\n",
       "       'AREASFICHEIROS_GNR', 'AREASFICHEIROS_GTF', 'FICHEIROIMAGEM_GNR',\n",
       "       'AREASFICHEIROSHP_GTF', 'AREASFICHEIROSHPXML_GTF',\n",
       "       'AREASFICHEIRODBF_GTF', 'AREASFICHEIROPRJ_GTF', 'AREASFICHEIROSBN_GTF',\n",
       "       'AREASFICHEIROSBX_GTF', 'AREASFICHEIROSHX_GTF', 'AREASFICHEIROZIP_SAA'],\n",
       "      dtype='object')"
      ]
     },
     "execution_count": 6,
     "metadata": {},
     "output_type": "execute_result"
    }
   ],
   "source": [
    "icnf_files[0].columns"
   ]
  },
  {
   "cell_type": "code",
   "execution_count": 7,
   "id": "20502c7b-f75e-441b-922e-5515228fbbc7",
   "metadata": {},
   "outputs": [
    {
     "data": {
      "text/plain": [
       "array(['AGRICOLA', 'ALTITUDEMEDIA', 'ANO', 'APS', 'AREAAGRIC',\n",
       "       'AREAMANCHAMODFARSITE', 'AREAMATO', 'AREAPOV',\n",
       "       'AREASFICHEIRODBF_GTF', 'AREASFICHEIROPRJ_GTF',\n",
       "       'AREASFICHEIROSBN_GTF', 'AREASFICHEIROSBX_GTF',\n",
       "       'AREASFICHEIROSHPXML_GTF', 'AREASFICHEIROSHP_GTF',\n",
       "       'AREASFICHEIROSHX_GTF', 'AREASFICHEIROS_GNR', 'AREASFICHEIROS_GTF',\n",
       "       'AREASFICHEIROZIP_SAA', 'AREATOTAL', 'BUI', 'CAUSA',\n",
       "       'CAUSAFAMILIA', 'CONCELHO', 'COSN5VARIEDADE', 'DATA1INTERVENCAO',\n",
       "       'DATAALERTA', 'DATAEXTINCAO', 'DC', 'DECLIVEMEDIO', 'DENDIDADERV',\n",
       "       'DHFIM', 'DHINICIO', 'DIA', 'DISTRITO', 'DMC', 'DSR', 'DURACAO',\n",
       "       'FALSOALARME', 'FFMC', 'FICHEIROIMAGEM_GNR', 'FOGACHO',\n",
       "       'FONTEALERTA', 'FREGUESIA', 'FWI', 'HAHORA', 'HORA',\n",
       "       'HORA1INTERVENCAO', 'HORAALERTA', 'HORAEXTINCAO',\n",
       "       'HORASEXPOSICAOMEDIA', 'HUMIDADERELATIVA', 'INCENDIO', 'INE',\n",
       "       'ISI', 'LAT', 'LOCAL', 'LON', 'MES', 'MODFARSITE', 'NCCO',\n",
       "       'NOMECCO', 'OPERADOR', 'PERIMETRO', 'PRECEPITACAO', 'QUEIMA',\n",
       "       'QUEIMADA', 'REACENDIMENTOS', 'TEMPERATURA', 'THC', 'TIPO',\n",
       "       'TIPOCAUSA', 'Unnamed: 0', 'VENTODIRECAO_VETOR',\n",
       "       'VENTOINTENSIDADE', 'VENTOINTENSIDADE_VETOR', 'X', 'Y'],\n",
       "      dtype=object)"
      ]
     },
     "execution_count": 7,
     "metadata": {},
     "output_type": "execute_result"
    }
   ],
   "source": [
    "np.unique([i.columns.values for i in icnf_files])"
   ]
  },
  {
   "cell_type": "markdown",
   "id": "edd547c4-0e59-4c3b-9916-3de286f6844e",
   "metadata": {},
   "source": [
    "Woah, they have all the same number and ordering of columns! That is good. "
   ]
  },
  {
   "cell_type": "markdown",
   "id": "077540f3-6f10-44fa-8b98-d5b0565baa45",
   "metadata": {},
   "source": [
    "# Inspecting relevant columns"
   ]
  },
  {
   "cell_type": "markdown",
   "id": "be49573c-d6e7-401a-ac1e-9fcf959dba51",
   "metadata": {},
   "source": [
    "Can we quickly merge all of them into a single DF? "
   ]
  },
  {
   "cell_type": "code",
   "execution_count": 8,
   "id": "11c31504-873f-43c5-8417-7fed08dfaa9c",
   "metadata": {},
   "outputs": [],
   "source": [
    "merged = pd.concat(icnf_files, axis=0)"
   ]
  },
  {
   "cell_type": "code",
   "execution_count": 9,
   "id": "cee6fb17-9dff-472f-8b99-98eac7a80e70",
   "metadata": {},
   "outputs": [
    {
     "data": {
      "text/plain": [
       "(96788, 77)"
      ]
     },
     "execution_count": 9,
     "metadata": {},
     "output_type": "execute_result"
    }
   ],
   "source": [
    "merged.shape"
   ]
  },
  {
   "cell_type": "code",
   "execution_count": 10,
   "id": "d7cb8acc-beec-438f-9366-3989066a7742",
   "metadata": {},
   "outputs": [
    {
     "data": {
      "text/plain": [
       "Index(['Unnamed: 0', 'DISTRITO', 'TIPO', 'ANO', 'AREAPOV', 'AREAMATO',\n",
       "       'AREAAGRIC', 'AREATOTAL', 'REACENDIMENTOS', 'QUEIMADA', 'FALSOALARME',\n",
       "       'FOGACHO', 'INCENDIO', 'AGRICOLA', 'NCCO', 'NOMECCO', 'DATAALERTA',\n",
       "       'HORAALERTA', 'LOCAL', 'CONCELHO', 'FREGUESIA', 'FONTEALERTA', 'INE',\n",
       "       'X', 'Y', 'DIA', 'MES', 'HORA', 'OPERADOR', 'PERIMETRO', 'APS', 'CAUSA',\n",
       "       'TIPOCAUSA', 'DHINICIO', 'DHFIM', 'DURACAO', 'HAHORA', 'DATAEXTINCAO',\n",
       "       'HORAEXTINCAO', 'DATA1INTERVENCAO', 'HORA1INTERVENCAO', 'QUEIMA', 'LAT',\n",
       "       'LON', 'CAUSAFAMILIA', 'TEMPERATURA', 'HUMIDADERELATIVA',\n",
       "       'VENTOINTENSIDADE', 'VENTOINTENSIDADE_VETOR', 'VENTODIRECAO_VETOR',\n",
       "       'PRECEPITACAO', 'FFMC', 'DMC', 'DC', 'ISI', 'BUI', 'FWI', 'DSR', 'THC',\n",
       "       'MODFARSITE', 'ALTITUDEMEDIA', 'DECLIVEMEDIO', 'HORASEXPOSICAOMEDIA',\n",
       "       'DENDIDADERV', 'COSN5VARIEDADE', 'AREAMANCHAMODFARSITE',\n",
       "       'AREASFICHEIROS_GNR', 'AREASFICHEIROS_GTF', 'FICHEIROIMAGEM_GNR',\n",
       "       'AREASFICHEIROSHP_GTF', 'AREASFICHEIROSHPXML_GTF',\n",
       "       'AREASFICHEIRODBF_GTF', 'AREASFICHEIROPRJ_GTF', 'AREASFICHEIROSBN_GTF',\n",
       "       'AREASFICHEIROSBX_GTF', 'AREASFICHEIROSHX_GTF', 'AREASFICHEIROZIP_SAA'],\n",
       "      dtype='object')"
      ]
     },
     "execution_count": 10,
     "metadata": {},
     "output_type": "execute_result"
    }
   ],
   "source": [
    "merged.columns"
   ]
  },
  {
   "cell_type": "markdown",
   "id": "b12061a3-285e-440b-81c5-b725715e58d7",
   "metadata": {},
   "source": [
    "Okay, now let's take a look at relevant columns: "
   ]
  },
  {
   "cell_type": "code",
   "execution_count": 11,
   "id": "b656f351-e8a2-4b9e-9ff3-c17a0477af49",
   "metadata": {},
   "outputs": [
    {
     "data": {
      "text/plain": [
       "array(['Évora', 'Portalegre', 'Beja', 'Guarda', 'Castelo Branco', 'Viseu',\n",
       "       'Coimbra', 'Aveiro', 'Leiria', 'Porto', 'Braga',\n",
       "       'Viana do Castelo', 'Viana Do Castelo', 'Santarém', 'Lisboa',\n",
       "       'Vila Real', 'Bragança', 'Setúbal', 'Faro'], dtype=object)"
      ]
     },
     "execution_count": 11,
     "metadata": {},
     "output_type": "execute_result"
    }
   ],
   "source": [
    "merged.DISTRITO.unique()"
   ]
  },
  {
   "cell_type": "markdown",
   "id": "5f67ed6a-73c7-4237-a783-b8abeb59078e",
   "metadata": {},
   "source": [
    "Seems we have no islands (which may be somewhat expected)."
   ]
  },
  {
   "cell_type": "markdown",
   "id": "f277bff5-5604-4096-93aa-03333f58717e",
   "metadata": {},
   "source": [
    "### Event areas"
   ]
  },
  {
   "cell_type": "code",
   "execution_count": 12,
   "id": "f169e520-40f2-40a2-9867-5493d0054543",
   "metadata": {},
   "outputs": [
    {
     "data": {
      "text/html": [
       "<div>\n",
       "<style scoped>\n",
       "    .dataframe tbody tr th:only-of-type {\n",
       "        vertical-align: middle;\n",
       "    }\n",
       "\n",
       "    .dataframe tbody tr th {\n",
       "        vertical-align: top;\n",
       "    }\n",
       "\n",
       "    .dataframe thead th {\n",
       "        text-align: right;\n",
       "    }\n",
       "</style>\n",
       "<table border=\"1\" class=\"dataframe\">\n",
       "  <thead>\n",
       "    <tr style=\"text-align: right;\">\n",
       "      <th></th>\n",
       "      <th>AREAPOV</th>\n",
       "      <th>AREAMATO</th>\n",
       "      <th>AREAAGRIC</th>\n",
       "    </tr>\n",
       "  </thead>\n",
       "  <tbody>\n",
       "    <tr>\n",
       "      <th>count</th>\n",
       "      <td>96788.000000</td>\n",
       "      <td>96788.000000</td>\n",
       "      <td>96788.000000</td>\n",
       "    </tr>\n",
       "    <tr>\n",
       "      <th>mean</th>\n",
       "      <td>5.363094</td>\n",
       "      <td>3.966748</td>\n",
       "      <td>0.707664</td>\n",
       "    </tr>\n",
       "    <tr>\n",
       "      <th>std</th>\n",
       "      <td>266.234062</td>\n",
       "      <td>99.039592</td>\n",
       "      <td>33.082430</td>\n",
       "    </tr>\n",
       "    <tr>\n",
       "      <th>min</th>\n",
       "      <td>0.000000</td>\n",
       "      <td>0.000000</td>\n",
       "      <td>0.000000</td>\n",
       "    </tr>\n",
       "    <tr>\n",
       "      <th>25%</th>\n",
       "      <td>0.000000</td>\n",
       "      <td>0.000000</td>\n",
       "      <td>0.000000</td>\n",
       "    </tr>\n",
       "    <tr>\n",
       "      <th>50%</th>\n",
       "      <td>0.000000</td>\n",
       "      <td>0.010000</td>\n",
       "      <td>0.000000</td>\n",
       "    </tr>\n",
       "    <tr>\n",
       "      <th>75%</th>\n",
       "      <td>0.000000</td>\n",
       "      <td>0.140000</td>\n",
       "      <td>0.000000</td>\n",
       "    </tr>\n",
       "    <tr>\n",
       "      <th>max</th>\n",
       "      <td>47215.433221</td>\n",
       "      <td>13178.860000</td>\n",
       "      <td>5493.424200</td>\n",
       "    </tr>\n",
       "  </tbody>\n",
       "</table>\n",
       "</div>"
      ],
      "text/plain": [
       "            AREAPOV      AREAMATO     AREAAGRIC\n",
       "count  96788.000000  96788.000000  96788.000000\n",
       "mean       5.363094      3.966748      0.707664\n",
       "std      266.234062     99.039592     33.082430\n",
       "min        0.000000      0.000000      0.000000\n",
       "25%        0.000000      0.000000      0.000000\n",
       "50%        0.000000      0.010000      0.000000\n",
       "75%        0.000000      0.140000      0.000000\n",
       "max    47215.433221  13178.860000   5493.424200"
      ]
     },
     "execution_count": 12,
     "metadata": {},
     "output_type": "execute_result"
    }
   ],
   "source": [
    "merged[['AREAPOV', 'AREAMATO', 'AREAAGRIC']].describe()"
   ]
  },
  {
   "cell_type": "code",
   "execution_count": 13,
   "id": "0f9b37d2-ad88-4239-9719-49f9bd0f60b8",
   "metadata": {},
   "outputs": [
    {
     "data": {
      "text/html": [
       "<div>\n",
       "<style scoped>\n",
       "    .dataframe tbody tr th:only-of-type {\n",
       "        vertical-align: middle;\n",
       "    }\n",
       "\n",
       "    .dataframe tbody tr th {\n",
       "        vertical-align: top;\n",
       "    }\n",
       "\n",
       "    .dataframe thead th {\n",
       "        text-align: right;\n",
       "    }\n",
       "</style>\n",
       "<table border=\"1\" class=\"dataframe\">\n",
       "  <thead>\n",
       "    <tr style=\"text-align: right;\">\n",
       "      <th></th>\n",
       "      <th>AREAPOV</th>\n",
       "      <th>AREAMATO</th>\n",
       "      <th>AREAAGRIC</th>\n",
       "      <th>AREATOTAL</th>\n",
       "    </tr>\n",
       "  </thead>\n",
       "  <tbody>\n",
       "    <tr>\n",
       "      <th>count</th>\n",
       "      <td>96788.000000</td>\n",
       "      <td>96788.000000</td>\n",
       "      <td>96788.000000</td>\n",
       "      <td>96788.000000</td>\n",
       "    </tr>\n",
       "    <tr>\n",
       "      <th>mean</th>\n",
       "      <td>5.363094</td>\n",
       "      <td>3.966748</td>\n",
       "      <td>0.707664</td>\n",
       "      <td>10.037505</td>\n",
       "    </tr>\n",
       "    <tr>\n",
       "      <th>std</th>\n",
       "      <td>266.234062</td>\n",
       "      <td>99.039592</td>\n",
       "      <td>33.082430</td>\n",
       "      <td>353.205043</td>\n",
       "    </tr>\n",
       "    <tr>\n",
       "      <th>min</th>\n",
       "      <td>0.000000</td>\n",
       "      <td>0.000000</td>\n",
       "      <td>0.000000</td>\n",
       "      <td>0.000000</td>\n",
       "    </tr>\n",
       "    <tr>\n",
       "      <th>25%</th>\n",
       "      <td>0.000000</td>\n",
       "      <td>0.000000</td>\n",
       "      <td>0.000000</td>\n",
       "      <td>0.010000</td>\n",
       "    </tr>\n",
       "    <tr>\n",
       "      <th>50%</th>\n",
       "      <td>0.000000</td>\n",
       "      <td>0.010000</td>\n",
       "      <td>0.000000</td>\n",
       "      <td>0.059600</td>\n",
       "    </tr>\n",
       "    <tr>\n",
       "      <th>75%</th>\n",
       "      <td>0.000000</td>\n",
       "      <td>0.140000</td>\n",
       "      <td>0.000000</td>\n",
       "      <td>0.500000</td>\n",
       "    </tr>\n",
       "    <tr>\n",
       "      <th>max</th>\n",
       "      <td>47215.433221</td>\n",
       "      <td>13178.860000</td>\n",
       "      <td>5493.424200</td>\n",
       "      <td>53618.811555</td>\n",
       "    </tr>\n",
       "  </tbody>\n",
       "</table>\n",
       "</div>"
      ],
      "text/plain": [
       "            AREAPOV      AREAMATO     AREAAGRIC     AREATOTAL\n",
       "count  96788.000000  96788.000000  96788.000000  96788.000000\n",
       "mean       5.363094      3.966748      0.707664     10.037505\n",
       "std      266.234062     99.039592     33.082430    353.205043\n",
       "min        0.000000      0.000000      0.000000      0.000000\n",
       "25%        0.000000      0.000000      0.000000      0.010000\n",
       "50%        0.000000      0.010000      0.000000      0.059600\n",
       "75%        0.000000      0.140000      0.000000      0.500000\n",
       "max    47215.433221  13178.860000   5493.424200  53618.811555"
      ]
     },
     "execution_count": 13,
     "metadata": {},
     "output_type": "execute_result"
    }
   ],
   "source": [
    "merged[['AREAPOV', 'AREAMATO', 'AREAAGRIC', 'AREATOTAL']].describe()"
   ]
  },
  {
   "cell_type": "code",
   "execution_count": 14,
   "id": "1387bf58-0e06-43b2-9202-a2ff8dc7bd9f",
   "metadata": {},
   "outputs": [],
   "source": [
    "merged['areatot_mine'] = merged.apply(lambda x: x.AREAPOV+x.AREAMATO+x.AREAAGRIC, axis=1)"
   ]
  },
  {
   "cell_type": "code",
   "execution_count": 15,
   "id": "a78a27e0-ca6d-4ce0-8e61-ce4b10a2efca",
   "metadata": {},
   "outputs": [
    {
     "data": {
      "text/plain": [
       "count    9.678800e+04\n",
       "mean    -3.974945e-16\n",
       "std      2.034877e-13\n",
       "min     -4.001777e-11\n",
       "25%      0.000000e+00\n",
       "50%      0.000000e+00\n",
       "75%      0.000000e+00\n",
       "max      2.182787e-11\n",
       "dtype: float64"
      ]
     },
     "execution_count": 15,
     "metadata": {},
     "output_type": "execute_result"
    }
   ],
   "source": [
    "(merged['areatot_mine'] - merged['AREATOTAL']).describe()"
   ]
  },
  {
   "cell_type": "markdown",
   "id": "cf4895f9-5003-4797-b5b9-a92caf00aef0",
   "metadata": {},
   "source": [
    "The difference is 0, so clearly the total area is a sum of agricultural, inhabited and forest area. "
   ]
  },
  {
   "cell_type": "code",
   "execution_count": 16,
   "id": "5281b74e-ed2e-43e6-a5a7-53c9da3200f3",
   "metadata": {},
   "outputs": [],
   "source": [
    "merged.drop('areatot_mine', axis=1, inplace=True)"
   ]
  },
  {
   "cell_type": "markdown",
   "id": "b875c1a7-4058-43dd-86a0-726dddbc6161",
   "metadata": {},
   "source": [
    "But let's take a look at the total distribution of areas. We can probaly safely discard the 5% percentile as those are relatively minor events, but do we have outliers or bugs? A fire where the total burnt area is way above than the country's area?"
   ]
  },
  {
   "cell_type": "code",
   "execution_count": 18,
   "id": "d895975e-1d4d-4c1d-a4bd-f3855aeb67ee",
   "metadata": {},
   "outputs": [
    {
     "data": {
      "text/plain": [
       "count    96788.000000\n",
       "mean        10.037505\n",
       "std        353.205043\n",
       "min          0.000000\n",
       "25%          0.010000\n",
       "50%          0.059600\n",
       "75%          0.500000\n",
       "max      53618.811555\n",
       "Name: AREATOTAL, dtype: float64"
      ]
     },
     "execution_count": 18,
     "metadata": {},
     "output_type": "execute_result"
    }
   ],
   "source": [
    "merged['AREATOTAL'].describe()"
   ]
  },
  {
   "cell_type": "code",
   "execution_count": 21,
   "id": "b61bdf3d-fdcc-4f8c-8d69-ef6b511bbd09",
   "metadata": {},
   "outputs": [
    {
     "data": {
      "text/plain": [
       "<AxesSubplot:ylabel='Frequency'>"
      ]
     },
     "execution_count": 21,
     "metadata": {},
     "output_type": "execute_result"
    },
    {
     "data": {
      "image/png": "[encoded data removed]",
      "text/plain": [
       "<Figure size 432x288 with 1 Axes>"
      ]
     },
     "metadata": {
      "needs_background": "light"
     },
     "output_type": "display_data"
    }
   ],
   "source": [
    "merged['AREATOTAL'][merged['AREATOTAL'] > merged['AREATOTAL'].quantile(.99)].plot(kind='hist')"
   ]
  },
  {
   "cell_type": "markdown",
   "id": "9913502b-4b7c-4075-b091-454b593171ac",
   "metadata": {},
   "source": [
    "These are probably the big forest fires of the last few years. The country's area is 9.226 $\\times$ 10^6 hectares. The biggest entry in the edatabase is 53618 Ha - about 0.56% of the country. Checks out. "
   ]
  },
  {
   "cell_type": "code",
   "execution_count": 22,
   "id": "b4956dac-0a4d-4b3e-9217-11b92a6a5ce0",
   "metadata": {},
   "outputs": [
    {
     "data": {
      "text/plain": [
       "(4211,)"
      ]
     },
     "execution_count": 22,
     "metadata": {},
     "output_type": "execute_result"
    }
   ],
   "source": [
    "merged['AREATOTAL'][merged['AREATOTAL'] < merged['AREATOTAL'].quantile(.05)].shape"
   ]
  },
  {
   "cell_type": "code",
   "execution_count": 82,
   "id": "09c3360a-d08a-45a5-83d8-31b8f02d6d07",
   "metadata": {},
   "outputs": [
    {
     "data": {
      "text/plain": [
       "0.001"
      ]
     },
     "execution_count": 82,
     "metadata": {},
     "output_type": "execute_result"
    }
   ],
   "source": [
    "merged['AREATOTAL'].quantile(.05)"
   ]
  },
  {
   "cell_type": "markdown",
   "id": "04493f05-37ae-417e-b32c-3480fc6aa224",
   "metadata": {},
   "source": [
    "How many forest fires have exactly 0.0 Ha?"
   ]
  },
  {
   "cell_type": "code",
   "execution_count": 87,
   "id": "ee7e9ef2-3fa0-414f-add3-26bd817e41cf",
   "metadata": {},
   "outputs": [
    {
     "data": {
      "text/html": [
       "<div>\n",
       "<style scoped>\n",
       "    .dataframe tbody tr th:only-of-type {\n",
       "        vertical-align: middle;\n",
       "    }\n",
       "\n",
       "    .dataframe tbody tr th {\n",
       "        vertical-align: top;\n",
       "    }\n",
       "\n",
       "    .dataframe thead th {\n",
       "        text-align: right;\n",
       "    }\n",
       "</style>\n",
       "<table border=\"1\" class=\"dataframe\">\n",
       "  <thead>\n",
       "    <tr style=\"text-align: right;\">\n",
       "      <th></th>\n",
       "      <th>Unnamed: 0</th>\n",
       "      <th>DISTRITO</th>\n",
       "      <th>TIPO</th>\n",
       "      <th>ANO</th>\n",
       "      <th>AREAPOV</th>\n",
       "      <th>AREAMATO</th>\n",
       "      <th>AREAAGRIC</th>\n",
       "      <th>AREATOTAL</th>\n",
       "      <th>REACENDIMENTOS</th>\n",
       "      <th>QUEIMADA</th>\n",
       "      <th>...</th>\n",
       "      <th>AREASFICHEIROS_GTF</th>\n",
       "      <th>FICHEIROIMAGEM_GNR</th>\n",
       "      <th>AREASFICHEIROSHP_GTF</th>\n",
       "      <th>AREASFICHEIROSHPXML_GTF</th>\n",
       "      <th>AREASFICHEIRODBF_GTF</th>\n",
       "      <th>AREASFICHEIROPRJ_GTF</th>\n",
       "      <th>AREASFICHEIROSBN_GTF</th>\n",
       "      <th>AREASFICHEIROSBX_GTF</th>\n",
       "      <th>AREASFICHEIROSHX_GTF</th>\n",
       "      <th>AREASFICHEIROZIP_SAA</th>\n",
       "    </tr>\n",
       "  </thead>\n",
       "  <tbody>\n",
       "    <tr>\n",
       "      <th>2364</th>\n",
       "      <td>2364</td>\n",
       "      <td>Faro</td>\n",
       "      <td>Florestal</td>\n",
       "      <td>2015</td>\n",
       "      <td>0.0</td>\n",
       "      <td>0.0</td>\n",
       "      <td>0.0</td>\n",
       "      <td>0.0</td>\n",
       "      <td>0</td>\n",
       "      <td>0</td>\n",
       "      <td>...</td>\n",
       "      <td>NaN</td>\n",
       "      <td>NaN</td>\n",
       "      <td>NaN</td>\n",
       "      <td>NaN</td>\n",
       "      <td>NaN</td>\n",
       "      <td>NaN</td>\n",
       "      <td>NaN</td>\n",
       "      <td>NaN</td>\n",
       "      <td>NaN</td>\n",
       "      <td>NaN</td>\n",
       "    </tr>\n",
       "    <tr>\n",
       "      <th>2978</th>\n",
       "      <td>2978</td>\n",
       "      <td>Faro</td>\n",
       "      <td>Florestal</td>\n",
       "      <td>2015</td>\n",
       "      <td>0.0</td>\n",
       "      <td>0.0</td>\n",
       "      <td>0.0</td>\n",
       "      <td>0.0</td>\n",
       "      <td>0</td>\n",
       "      <td>0</td>\n",
       "      <td>...</td>\n",
       "      <td>NaN</td>\n",
       "      <td>NaN</td>\n",
       "      <td>NaN</td>\n",
       "      <td>NaN</td>\n",
       "      <td>NaN</td>\n",
       "      <td>NaN</td>\n",
       "      <td>NaN</td>\n",
       "      <td>NaN</td>\n",
       "      <td>NaN</td>\n",
       "      <td>NaN</td>\n",
       "    </tr>\n",
       "    <tr>\n",
       "      <th>4466</th>\n",
       "      <td>4466</td>\n",
       "      <td>Faro</td>\n",
       "      <td>Florestal</td>\n",
       "      <td>2015</td>\n",
       "      <td>0.0</td>\n",
       "      <td>0.0</td>\n",
       "      <td>0.0</td>\n",
       "      <td>0.0</td>\n",
       "      <td>0</td>\n",
       "      <td>0</td>\n",
       "      <td>...</td>\n",
       "      <td>NaN</td>\n",
       "      <td>NaN</td>\n",
       "      <td>NaN</td>\n",
       "      <td>NaN</td>\n",
       "      <td>NaN</td>\n",
       "      <td>NaN</td>\n",
       "      <td>NaN</td>\n",
       "      <td>NaN</td>\n",
       "      <td>NaN</td>\n",
       "      <td>NaN</td>\n",
       "    </tr>\n",
       "    <tr>\n",
       "      <th>8294</th>\n",
       "      <td>8294</td>\n",
       "      <td>Faro</td>\n",
       "      <td>Florestal</td>\n",
       "      <td>2015</td>\n",
       "      <td>0.0</td>\n",
       "      <td>0.0</td>\n",
       "      <td>0.0</td>\n",
       "      <td>0.0</td>\n",
       "      <td>0</td>\n",
       "      <td>0</td>\n",
       "      <td>...</td>\n",
       "      <td>NaN</td>\n",
       "      <td>NaN</td>\n",
       "      <td>NaN</td>\n",
       "      <td>NaN</td>\n",
       "      <td>NaN</td>\n",
       "      <td>NaN</td>\n",
       "      <td>NaN</td>\n",
       "      <td>NaN</td>\n",
       "      <td>NaN</td>\n",
       "      <td>NaN</td>\n",
       "    </tr>\n",
       "    <tr>\n",
       "      <th>10709</th>\n",
       "      <td>10709</td>\n",
       "      <td>Faro</td>\n",
       "      <td>Florestal</td>\n",
       "      <td>2015</td>\n",
       "      <td>0.0</td>\n",
       "      <td>0.0</td>\n",
       "      <td>0.0</td>\n",
       "      <td>0.0</td>\n",
       "      <td>0</td>\n",
       "      <td>0</td>\n",
       "      <td>...</td>\n",
       "      <td>NaN</td>\n",
       "      <td>NaN</td>\n",
       "      <td>NaN</td>\n",
       "      <td>NaN</td>\n",
       "      <td>NaN</td>\n",
       "      <td>NaN</td>\n",
       "      <td>NaN</td>\n",
       "      <td>NaN</td>\n",
       "      <td>NaN</td>\n",
       "      <td>NaN</td>\n",
       "    </tr>\n",
       "    <tr>\n",
       "      <th>...</th>\n",
       "      <td>...</td>\n",
       "      <td>...</td>\n",
       "      <td>...</td>\n",
       "      <td>...</td>\n",
       "      <td>...</td>\n",
       "      <td>...</td>\n",
       "      <td>...</td>\n",
       "      <td>...</td>\n",
       "      <td>...</td>\n",
       "      <td>...</td>\n",
       "      <td>...</td>\n",
       "      <td>...</td>\n",
       "      <td>...</td>\n",
       "      <td>...</td>\n",
       "      <td>...</td>\n",
       "      <td>...</td>\n",
       "      <td>...</td>\n",
       "      <td>...</td>\n",
       "      <td>...</td>\n",
       "      <td>...</td>\n",
       "      <td>...</td>\n",
       "    </tr>\n",
       "    <tr>\n",
       "      <th>6681</th>\n",
       "      <td>6681</td>\n",
       "      <td>Vila Real</td>\n",
       "      <td>Florestal</td>\n",
       "      <td>2021</td>\n",
       "      <td>0.0</td>\n",
       "      <td>0.0</td>\n",
       "      <td>0.0</td>\n",
       "      <td>0.0</td>\n",
       "      <td>0</td>\n",
       "      <td>0</td>\n",
       "      <td>...</td>\n",
       "      <td>NaN</td>\n",
       "      <td>NaN</td>\n",
       "      <td>NaN</td>\n",
       "      <td>NaN</td>\n",
       "      <td>NaN</td>\n",
       "      <td>NaN</td>\n",
       "      <td>NaN</td>\n",
       "      <td>NaN</td>\n",
       "      <td>NaN</td>\n",
       "      <td>NaN</td>\n",
       "    </tr>\n",
       "    <tr>\n",
       "      <th>6712</th>\n",
       "      <td>6712</td>\n",
       "      <td>Vila Real</td>\n",
       "      <td>Agrícola</td>\n",
       "      <td>2021</td>\n",
       "      <td>0.0</td>\n",
       "      <td>0.0</td>\n",
       "      <td>0.0</td>\n",
       "      <td>0.0</td>\n",
       "      <td>0</td>\n",
       "      <td>0</td>\n",
       "      <td>...</td>\n",
       "      <td>NaN</td>\n",
       "      <td>NaN</td>\n",
       "      <td>NaN</td>\n",
       "      <td>NaN</td>\n",
       "      <td>NaN</td>\n",
       "      <td>NaN</td>\n",
       "      <td>NaN</td>\n",
       "      <td>NaN</td>\n",
       "      <td>NaN</td>\n",
       "      <td>NaN</td>\n",
       "    </tr>\n",
       "    <tr>\n",
       "      <th>6844</th>\n",
       "      <td>6844</td>\n",
       "      <td>Bragança</td>\n",
       "      <td>Florestal</td>\n",
       "      <td>2021</td>\n",
       "      <td>0.0</td>\n",
       "      <td>0.0</td>\n",
       "      <td>0.0</td>\n",
       "      <td>0.0</td>\n",
       "      <td>0</td>\n",
       "      <td>0</td>\n",
       "      <td>...</td>\n",
       "      <td>NaN</td>\n",
       "      <td>NaN</td>\n",
       "      <td>NaN</td>\n",
       "      <td>NaN</td>\n",
       "      <td>NaN</td>\n",
       "      <td>NaN</td>\n",
       "      <td>NaN</td>\n",
       "      <td>NaN</td>\n",
       "      <td>NaN</td>\n",
       "      <td>NaN</td>\n",
       "    </tr>\n",
       "    <tr>\n",
       "      <th>6896</th>\n",
       "      <td>6896</td>\n",
       "      <td>Bragança</td>\n",
       "      <td>Florestal</td>\n",
       "      <td>2021</td>\n",
       "      <td>0.0</td>\n",
       "      <td>0.0</td>\n",
       "      <td>0.0</td>\n",
       "      <td>0.0</td>\n",
       "      <td>0</td>\n",
       "      <td>0</td>\n",
       "      <td>...</td>\n",
       "      <td>NaN</td>\n",
       "      <td>NaN</td>\n",
       "      <td>NaN</td>\n",
       "      <td>NaN</td>\n",
       "      <td>NaN</td>\n",
       "      <td>NaN</td>\n",
       "      <td>NaN</td>\n",
       "      <td>NaN</td>\n",
       "      <td>NaN</td>\n",
       "      <td>NaN</td>\n",
       "    </tr>\n",
       "    <tr>\n",
       "      <th>6925</th>\n",
       "      <td>6925</td>\n",
       "      <td>Bragança</td>\n",
       "      <td>Florestal</td>\n",
       "      <td>2021</td>\n",
       "      <td>0.0</td>\n",
       "      <td>0.0</td>\n",
       "      <td>0.0</td>\n",
       "      <td>0.0</td>\n",
       "      <td>0</td>\n",
       "      <td>0</td>\n",
       "      <td>...</td>\n",
       "      <td>NaN</td>\n",
       "      <td>NaN</td>\n",
       "      <td>NaN</td>\n",
       "      <td>NaN</td>\n",
       "      <td>NaN</td>\n",
       "      <td>NaN</td>\n",
       "      <td>NaN</td>\n",
       "      <td>NaN</td>\n",
       "      <td>NaN</td>\n",
       "      <td>NaN</td>\n",
       "    </tr>\n",
       "  </tbody>\n",
       "</table>\n",
       "<p>296 rows × 77 columns</p>\n",
       "</div>"
      ],
      "text/plain": [
       "       Unnamed: 0   DISTRITO       TIPO   ANO  AREAPOV  AREAMATO  AREAAGRIC  \\\n",
       "2364         2364       Faro  Florestal  2015      0.0       0.0        0.0   \n",
       "2978         2978       Faro  Florestal  2015      0.0       0.0        0.0   \n",
       "4466         4466       Faro  Florestal  2015      0.0       0.0        0.0   \n",
       "8294         8294       Faro  Florestal  2015      0.0       0.0        0.0   \n",
       "10709       10709       Faro  Florestal  2015      0.0       0.0        0.0   \n",
       "...           ...        ...        ...   ...      ...       ...        ...   \n",
       "6681         6681  Vila Real  Florestal  2021      0.0       0.0        0.0   \n",
       "6712         6712  Vila Real   Agrícola  2021      0.0       0.0        0.0   \n",
       "6844         6844   Bragança  Florestal  2021      0.0       0.0        0.0   \n",
       "6896         6896   Bragança  Florestal  2021      0.0       0.0        0.0   \n",
       "6925         6925   Bragança  Florestal  2021      0.0       0.0        0.0   \n",
       "\n",
       "       AREATOTAL  REACENDIMENTOS  QUEIMADA  ...  AREASFICHEIROS_GTF  \\\n",
       "2364         0.0               0         0  ...                 NaN   \n",
       "2978         0.0               0         0  ...                 NaN   \n",
       "4466         0.0               0         0  ...                 NaN   \n",
       "8294         0.0               0         0  ...                 NaN   \n",
       "10709        0.0               0         0  ...                 NaN   \n",
       "...          ...             ...       ...  ...                 ...   \n",
       "6681         0.0               0         0  ...                 NaN   \n",
       "6712         0.0               0         0  ...                 NaN   \n",
       "6844         0.0               0         0  ...                 NaN   \n",
       "6896         0.0               0         0  ...                 NaN   \n",
       "6925         0.0               0         0  ...                 NaN   \n",
       "\n",
       "       FICHEIROIMAGEM_GNR  AREASFICHEIROSHP_GTF  AREASFICHEIROSHPXML_GTF  \\\n",
       "2364                  NaN                   NaN                      NaN   \n",
       "2978                  NaN                   NaN                      NaN   \n",
       "4466                  NaN                   NaN                      NaN   \n",
       "8294                  NaN                   NaN                      NaN   \n",
       "10709                 NaN                   NaN                      NaN   \n",
       "...                   ...                   ...                      ...   \n",
       "6681                  NaN                   NaN                      NaN   \n",
       "6712                  NaN                   NaN                      NaN   \n",
       "6844                  NaN                   NaN                      NaN   \n",
       "6896                  NaN                   NaN                      NaN   \n",
       "6925                  NaN                   NaN                      NaN   \n",
       "\n",
       "       AREASFICHEIRODBF_GTF  AREASFICHEIROPRJ_GTF AREASFICHEIROSBN_GTF  \\\n",
       "2364                    NaN                   NaN                  NaN   \n",
       "2978                    NaN                   NaN                  NaN   \n",
       "4466                    NaN                   NaN                  NaN   \n",
       "8294                    NaN                   NaN                  NaN   \n",
       "10709                   NaN                   NaN                  NaN   \n",
       "...                     ...                   ...                  ...   \n",
       "6681                    NaN                   NaN                  NaN   \n",
       "6712                    NaN                   NaN                  NaN   \n",
       "6844                    NaN                   NaN                  NaN   \n",
       "6896                    NaN                   NaN                  NaN   \n",
       "6925                    NaN                   NaN                  NaN   \n",
       "\n",
       "      AREASFICHEIROSBX_GTF AREASFICHEIROSHX_GTF AREASFICHEIROZIP_SAA  \n",
       "2364                   NaN                  NaN                  NaN  \n",
       "2978                   NaN                  NaN                  NaN  \n",
       "4466                   NaN                  NaN                  NaN  \n",
       "8294                   NaN                  NaN                  NaN  \n",
       "10709                  NaN                  NaN                  NaN  \n",
       "...                    ...                  ...                  ...  \n",
       "6681                   NaN                  NaN                  NaN  \n",
       "6712                   NaN                  NaN                  NaN  \n",
       "6844                   NaN                  NaN                  NaN  \n",
       "6896                   NaN                  NaN                  NaN  \n",
       "6925                   NaN                  NaN                  NaN  \n",
       "\n",
       "[296 rows x 77 columns]"
      ]
     },
     "execution_count": 87,
     "metadata": {},
     "output_type": "execute_result"
    }
   ],
   "source": [
    "merged[merged['AREATOTAL'] == 0]"
   ]
  },
  {
   "cell_type": "markdown",
   "id": "d14911f1-d91c-4b3c-8d7f-4a63f5e798c1",
   "metadata": {},
   "source": [
    "If we exclude the 5% percentile, we exclude 4k events (including these 0 ones). **These are events with less than 0.001 Ha of burnt area - 10m². Pretty safe to exclude, I'd say. In fact, we could probably go even further.**"
   ]
  },
  {
   "cell_type": "markdown",
   "id": "99de29fa-4052-48e5-8987-f5dd6b4c05b0",
   "metadata": {},
   "source": [
    "### Event type"
   ]
  },
  {
   "cell_type": "code",
   "execution_count": 27,
   "id": "b2227906-b4ec-4a5d-a7b8-69beb8792ede",
   "metadata": {},
   "outputs": [
    {
     "data": {
      "text/plain": [
       "array(['Agrícola', 'Florestal', 'Queima'], dtype=object)"
      ]
     },
     "execution_count": 27,
     "metadata": {},
     "output_type": "execute_result"
    }
   ],
   "source": [
    "merged['TIPO'].unique()"
   ]
  },
  {
   "cell_type": "code",
   "execution_count": 28,
   "id": "6cc95f2f-a149-428f-ad44-4afaccfd6849",
   "metadata": {},
   "outputs": [
    {
     "data": {
      "text/plain": [
       "array([0])"
      ]
     },
     "execution_count": 28,
     "metadata": {},
     "output_type": "execute_result"
    }
   ],
   "source": [
    "merged['QUEIMADA'].unique()"
   ]
  },
  {
   "cell_type": "markdown",
   "id": "fbc1d549-ea44-4ba9-a78c-0d285959b685",
   "metadata": {},
   "source": [
    "I think we are interested in all three types. \"Agrícola\" probably refers to fires stemming from the usage of agricultural machnes; \"Florestal\" from naturally occurring or criminal forest fires; \"Queima\" from people burning trash or residues and the situation getting out of hand. **No relevant filtering whatsoever.**"
   ]
  },
  {
   "cell_type": "markdown",
   "id": "055d4875-8b2f-474f-b9e7-c1d20b13a0c9",
   "metadata": {},
   "source": [
    "### False alarms"
   ]
  },
  {
   "cell_type": "code",
   "execution_count": 31,
   "id": "1d9367ce-a98a-436b-bbeb-658e1d1f7d57",
   "metadata": {},
   "outputs": [
    {
     "data": {
      "text/plain": [
       "count    96788.0\n",
       "mean         0.0\n",
       "std          0.0\n",
       "min          0.0\n",
       "25%          0.0\n",
       "50%          0.0\n",
       "75%          0.0\n",
       "max          0.0\n",
       "Name: FALSOALARME, dtype: float64"
      ]
     },
     "execution_count": 31,
     "metadata": {},
     "output_type": "execute_result"
    }
   ],
   "source": [
    "merged['FALSOALARME'].describe()"
   ]
  },
  {
   "cell_type": "markdown",
   "id": "21eef433-b269-4219-bfa8-0e873c23cd3c",
   "metadata": {},
   "source": [
    "**Filter out all false alarms (we seem to have none, but we could add the code there in any case).**"
   ]
  },
  {
   "cell_type": "markdown",
   "id": "5fd155c1-45e6-41f3-b1ce-7c81cd0fb44e",
   "metadata": {},
   "source": [
    "### Little fire (\"fogacho\")"
   ]
  },
  {
   "cell_type": "code",
   "execution_count": 33,
   "id": "801c7e04-3563-4cef-b1aa-fc6a5f211206",
   "metadata": {},
   "outputs": [
    {
     "data": {
      "text/plain": [
       "array([0, 1])"
      ]
     },
     "execution_count": 33,
     "metadata": {},
     "output_type": "execute_result"
    }
   ],
   "source": [
    "merged['FOGACHO'].unique()"
   ]
  },
  {
   "cell_type": "markdown",
   "id": "767d0557-6371-4b96-8efe-970c478f831a",
   "metadata": {},
   "source": [
    "Is this somewhat related with the burnt area?"
   ]
  },
  {
   "cell_type": "code",
   "execution_count": 41,
   "id": "46cc4a63-bbbd-45bd-af03-3f9615b14b59",
   "metadata": {},
   "outputs": [
    {
     "data": {
      "text/plain": [
       "count    33687.000000\n",
       "mean        28.588506\n",
       "std        598.260891\n",
       "min          0.000000\n",
       "25%          0.020000\n",
       "50%          0.963400\n",
       "75%          2.930000\n",
       "max      53618.811555\n",
       "Name: AREATOTAL, dtype: float64"
      ]
     },
     "execution_count": 41,
     "metadata": {},
     "output_type": "execute_result"
    }
   ],
   "source": [
    "merged[(merged['FOGACHO'] == 0)]['AREATOTAL'].describe()"
   ]
  },
  {
   "cell_type": "code",
   "execution_count": 42,
   "id": "f7b3fa5b-00cb-46c9-b130-909689dc3b41",
   "metadata": {},
   "outputs": [
    {
     "data": {
      "text/plain": [
       "count    63101.000000\n",
       "mean         0.133898\n",
       "std          0.206710\n",
       "min          0.000000\n",
       "25%          0.010000\n",
       "50%          0.040000\n",
       "75%          0.150000\n",
       "max          1.590000\n",
       "Name: AREATOTAL, dtype: float64"
      ]
     },
     "execution_count": 42,
     "metadata": {},
     "output_type": "execute_result"
    }
   ],
   "source": [
    "merged[(merged['FOGACHO'] == 1)]['AREATOTAL'].describe()"
   ]
  },
  {
   "cell_type": "markdown",
   "id": "6bb78817-ca0c-438c-8bef-be5879ae2b4b",
   "metadata": {},
   "source": [
    "Do we have anything, visually?"
   ]
  },
  {
   "cell_type": "code",
   "execution_count": 52,
   "id": "872ba64c-4cff-49d4-be1c-42ecf49a7a53",
   "metadata": {},
   "outputs": [
    {
     "data": {
      "text/plain": [
       "(0.0, 10.0)"
      ]
     },
     "execution_count": 52,
     "metadata": {},
     "output_type": "execute_result"
    },
    {
     "data": {
      "image/png": "[encoded data removed]",
      "text/plain": [
       "<Figure size 432x288 with 1 Axes>"
      ]
     },
     "metadata": {
      "needs_background": "light"
     },
     "output_type": "display_data"
    }
   ],
   "source": [
    "fig, ax = plt.subplots(1,1)\n",
    "merged[(merged['FOGACHO'] == 0)]['AREATOTAL'].plot(kind='hist', ax=ax, alpha=0.5, color='r')\n",
    "merged[(merged['FOGACHO'] == 1)]['AREATOTAL'].plot(kind='hist', ax=ax, alpha=0.5, color='b')\n",
    "ax.set_xlim([0, 10])"
   ]
  },
  {
   "cell_type": "markdown",
   "id": "c1062631-219b-4522-9789-9917237ff95b",
   "metadata": {},
   "source": [
    "Okay, it's connected with the area. We are already doing area filtering, so **no filtering needed.**"
   ]
  },
  {
   "cell_type": "markdown",
   "id": "5bbd99ac-a24a-465d-b45b-0b587dbf9f90",
   "metadata": {},
   "source": [
    "### \"Incêndio\" and \"Agrícola\" fields"
   ]
  },
  {
   "cell_type": "code",
   "execution_count": 88,
   "id": "69c85b09-1433-4975-b9e2-22796f5136a7",
   "metadata": {},
   "outputs": [
    {
     "data": {
      "text/plain": [
       "array([0, 1])"
      ]
     },
     "execution_count": 88,
     "metadata": {},
     "output_type": "execute_result"
    }
   ],
   "source": [
    "merged['INCENDIO'].unique()"
   ]
  },
  {
   "cell_type": "code",
   "execution_count": 89,
   "id": "be8a7688-e6f8-4252-b29c-30e470aa3a77",
   "metadata": {},
   "outputs": [
    {
     "data": {
      "text/plain": [
       "array([1, 0])"
      ]
     },
     "execution_count": 89,
     "metadata": {},
     "output_type": "execute_result"
    }
   ],
   "source": [
    "merged['AGRICOLA'].unique()"
   ]
  },
  {
   "cell_type": "markdown",
   "id": "677bdfe4-52f2-464c-a726-d32423acb6ef",
   "metadata": {},
   "source": [
    "First of all, are all \"Agricola\" fires?"
   ]
  },
  {
   "cell_type": "code",
   "execution_count": 60,
   "id": "fe650b29-6c57-4ab8-88d6-f7049f886303",
   "metadata": {},
   "outputs": [
    {
     "data": {
      "text/plain": [
       "array([0])"
      ]
     },
     "execution_count": 60,
     "metadata": {},
     "output_type": "execute_result"
    }
   ],
   "source": [
    "merged['INCENDIO'][merged['AGRICOLA'] == 1].unique()"
   ]
  },
  {
   "cell_type": "markdown",
   "id": "2689ed4d-0662-427e-8b2b-2bbb0028d8ca",
   "metadata": {},
   "source": [
    "_Huh... no._"
   ]
  },
  {
   "cell_type": "markdown",
   "id": "9fd4d453-4909-4c50-b543-01ee8ea0dda4",
   "metadata": {},
   "source": [
    "Okay, so let's take a look at the cause for all those where 'INCENDIO' is false. "
   ]
  },
  {
   "cell_type": "code",
   "execution_count": 73,
   "id": "9041fd3d-c7bc-4827-a067-9f6fae56b5f2",
   "metadata": {},
   "outputs": [
    {
     "data": {
      "text/plain": [
       "array(['Negligente', 'Desconhecida', 'Intencional', 'Natural',\n",
       "       'Reacendimento', nan], dtype=object)"
      ]
     },
     "execution_count": 73,
     "metadata": {},
     "output_type": "execute_result"
    }
   ],
   "source": [
    "merged['TIPOCAUSA'][merged['INCENDIO'] == 0].unique()"
   ]
  },
  {
   "cell_type": "code",
   "execution_count": 74,
   "id": "d04a5997-7da5-401b-9660-917ab92308d1",
   "metadata": {},
   "outputs": [
    {
     "data": {
      "text/plain": [
       "array(['Negligente', 'Desconhecida', 'Intencional', 'Natural',\n",
       "       'Reacendimento', nan], dtype=object)"
      ]
     },
     "execution_count": 74,
     "metadata": {},
     "output_type": "execute_result"
    }
   ],
   "source": [
    "merged['TIPOCAUSA'][merged['AGRICOLA'] == 0].unique()"
   ]
  },
  {
   "cell_type": "markdown",
   "id": "24bfba87-d7d4-4928-a400-78666791f016",
   "metadata": {},
   "source": [
    "Is it present throughout the years (wondering if it's a data schema artifact)?"
   ]
  },
  {
   "cell_type": "code",
   "execution_count": 75,
   "id": "b7361ce0-ffc9-44ab-98e7-9b66b010acf9",
   "metadata": {},
   "outputs": [
    {
     "data": {
      "text/plain": [
       "array([2015, 2016, 2017, 2018, 2019, 2020, 2021])"
      ]
     },
     "execution_count": 75,
     "metadata": {},
     "output_type": "execute_result"
    }
   ],
   "source": [
    "merged['ANO'][merged['INCENDIO'] == 0].unique()"
   ]
  },
  {
   "cell_type": "code",
   "execution_count": 78,
   "id": "954543ad-9fcd-4d32-acd0-5c255b0db6ee",
   "metadata": {},
   "outputs": [
    {
     "data": {
      "text/plain": [
       "array([2015, 2016, 2017, 2018, 2019, 2020, 2021])"
      ]
     },
     "execution_count": 78,
     "metadata": {},
     "output_type": "execute_result"
    }
   ],
   "source": [
    "merged['ANO'][merged['AGRICOLA'] == 0].unique()"
   ]
  },
  {
   "cell_type": "code",
   "execution_count": 77,
   "id": "7c20f65e-17eb-44b6-af04-7caf45171289",
   "metadata": {},
   "outputs": [
    {
     "data": {
      "text/plain": [
       "array([2015, 2016, 2017, 2018, 2019, 2020, 2021])"
      ]
     },
     "execution_count": 77,
     "metadata": {},
     "output_type": "execute_result"
    }
   ],
   "source": [
    "merged['ANO'][merged['INCENDIO'] == 1].unique()"
   ]
  },
  {
   "cell_type": "code",
   "execution_count": 79,
   "id": "5401e4ab-5c82-4996-843d-8027aca06cb4",
   "metadata": {},
   "outputs": [
    {
     "data": {
      "text/plain": [
       "array([2015, 2016, 2017, 2018, 2019, 2020, 2021])"
      ]
     },
     "execution_count": 79,
     "metadata": {},
     "output_type": "execute_result"
    }
   ],
   "source": [
    "merged['ANO'][merged['AGRICOLA'] == 1].unique()"
   ]
  },
  {
   "cell_type": "markdown",
   "id": "cd7a804f-94f8-4c68-ac95-cf5397368bca",
   "metadata": {},
   "source": [
    "_Hmmm, present throughout all those years. Any areas pattern?_"
   ]
  },
  {
   "cell_type": "code",
   "execution_count": 91,
   "id": "f68861b7-695c-4a60-be73-3ae3aa92c237",
   "metadata": {},
   "outputs": [
    {
     "data": {
      "text/plain": [
       "count    15060.000000\n",
       "mean        63.003739\n",
       "std        893.357793\n",
       "min          1.000000\n",
       "25%          1.500000\n",
       "50%          3.000000\n",
       "75%          9.042500\n",
       "max      53618.811555\n",
       "Name: AREATOTAL, dtype: float64"
      ]
     },
     "execution_count": 91,
     "metadata": {},
     "output_type": "execute_result"
    }
   ],
   "source": [
    "merged['AREATOTAL'][merged['INCENDIO'] == 1].describe()"
   ]
  },
  {
   "cell_type": "code",
   "execution_count": 93,
   "id": "0175e268-0123-4a31-8425-231516f3a960",
   "metadata": {},
   "outputs": [
    {
     "data": {
      "text/plain": [
       "count    81728.000000\n",
       "mean         0.277429\n",
       "std          8.640731\n",
       "min          0.000000\n",
       "25%          0.010000\n",
       "50%          0.037500\n",
       "75%          0.169500\n",
       "max       2382.000000\n",
       "Name: AREATOTAL, dtype: float64"
      ]
     },
     "execution_count": 93,
     "metadata": {},
     "output_type": "execute_result"
    }
   ],
   "source": [
    "merged['AREATOTAL'][merged['INCENDIO'] == 0].describe()"
   ]
  },
  {
   "cell_type": "code",
   "execution_count": 92,
   "id": "64d49b91-0a5d-42a5-b531-6fb6bf3a50f7",
   "metadata": {},
   "outputs": [
    {
     "data": {
      "text/plain": [
       "count    18627.000000\n",
       "mean         0.763659\n",
       "std         18.087325\n",
       "min          0.000000\n",
       "25%          0.005000\n",
       "50%          0.030000\n",
       "75%          0.200600\n",
       "max       2382.000000\n",
       "Name: AREATOTAL, dtype: float64"
      ]
     },
     "execution_count": 92,
     "metadata": {},
     "output_type": "execute_result"
    }
   ],
   "source": [
    "merged['AREATOTAL'][merged['AGRICOLA'] == 1].describe()"
   ]
  },
  {
   "cell_type": "code",
   "execution_count": 94,
   "id": "b228f0d5-ea91-46e2-80cc-703e15701a80",
   "metadata": {},
   "outputs": [
    {
     "data": {
      "text/plain": [
       "count    78161.000000\n",
       "mean        12.247609\n",
       "std        392.914291\n",
       "min          0.000000\n",
       "25%          0.010000\n",
       "50%          0.075000\n",
       "75%          0.500000\n",
       "max      53618.811555\n",
       "Name: AREATOTAL, dtype: float64"
      ]
     },
     "execution_count": 94,
     "metadata": {},
     "output_type": "execute_result"
    }
   ],
   "source": [
    "merged['AREATOTAL'][merged['AGRICOLA'] == 0].describe()"
   ]
  },
  {
   "cell_type": "markdown",
   "id": "4658a485-791c-4ab3-9e8a-eb56aed5b809",
   "metadata": {},
   "source": [
    "And what's the intersect like? "
   ]
  },
  {
   "cell_type": "code",
   "execution_count": 99,
   "id": "9b9382fa-c4ba-4238-91b3-be7705287191",
   "metadata": {},
   "outputs": [
    {
     "data": {
      "text/html": [
       "<div>\n",
       "<style scoped>\n",
       "    .dataframe tbody tr th:only-of-type {\n",
       "        vertical-align: middle;\n",
       "    }\n",
       "\n",
       "    .dataframe tbody tr th {\n",
       "        vertical-align: top;\n",
       "    }\n",
       "\n",
       "    .dataframe thead th {\n",
       "        text-align: right;\n",
       "    }\n",
       "</style>\n",
       "<table border=\"1\" class=\"dataframe\">\n",
       "  <thead>\n",
       "    <tr style=\"text-align: right;\">\n",
       "      <th></th>\n",
       "      <th>Unnamed: 0</th>\n",
       "      <th>ANO</th>\n",
       "      <th>AREAPOV</th>\n",
       "      <th>AREAMATO</th>\n",
       "      <th>AREAAGRIC</th>\n",
       "      <th>AREATOTAL</th>\n",
       "      <th>REACENDIMENTOS</th>\n",
       "      <th>QUEIMADA</th>\n",
       "      <th>FALSOALARME</th>\n",
       "      <th>FOGACHO</th>\n",
       "      <th>...</th>\n",
       "      <th>ALTITUDEMEDIA</th>\n",
       "      <th>DECLIVEMEDIO</th>\n",
       "      <th>HORASEXPOSICAOMEDIA</th>\n",
       "      <th>DENDIDADERV</th>\n",
       "      <th>COSN5VARIEDADE</th>\n",
       "      <th>AREAMANCHAMODFARSITE</th>\n",
       "      <th>FICHEIROIMAGEM_GNR</th>\n",
       "      <th>AREASFICHEIROSHPXML_GTF</th>\n",
       "      <th>AREASFICHEIROSBN_GTF</th>\n",
       "      <th>AREASFICHEIROSBX_GTF</th>\n",
       "    </tr>\n",
       "  </thead>\n",
       "  <tbody>\n",
       "    <tr>\n",
       "      <th>count</th>\n",
       "      <td>15060.000000</td>\n",
       "      <td>15060.000000</td>\n",
       "      <td>15060.000000</td>\n",
       "      <td>15060.000000</td>\n",
       "      <td>15060.000000</td>\n",
       "      <td>15060.000000</td>\n",
       "      <td>15060.000000</td>\n",
       "      <td>15060.0</td>\n",
       "      <td>15060.0</td>\n",
       "      <td>15060.0</td>\n",
       "      <td>...</td>\n",
       "      <td>15050.000000</td>\n",
       "      <td>15050.000000</td>\n",
       "      <td>0.0</td>\n",
       "      <td>15057.000000</td>\n",
       "      <td>15057.000000</td>\n",
       "      <td>9622.000000</td>\n",
       "      <td>0.0</td>\n",
       "      <td>0.0</td>\n",
       "      <td>0.0</td>\n",
       "      <td>0.0</td>\n",
       "    </tr>\n",
       "    <tr>\n",
       "      <th>mean</th>\n",
       "      <td>8106.423639</td>\n",
       "      <td>2017.184197</td>\n",
       "      <td>34.300753</td>\n",
       "      <td>25.098337</td>\n",
       "      <td>3.604649</td>\n",
       "      <td>63.003739</td>\n",
       "      <td>0.077490</td>\n",
       "      <td>0.0</td>\n",
       "      <td>0.0</td>\n",
       "      <td>0.0</td>\n",
       "      <td>...</td>\n",
       "      <td>430.686536</td>\n",
       "      <td>18.377798</td>\n",
       "      <td>NaN</td>\n",
       "      <td>221.638945</td>\n",
       "      <td>16.832918</td>\n",
       "      <td>621.386593</td>\n",
       "      <td>NaN</td>\n",
       "      <td>NaN</td>\n",
       "      <td>NaN</td>\n",
       "      <td>NaN</td>\n",
       "    </tr>\n",
       "    <tr>\n",
       "      <th>std</th>\n",
       "      <td>5932.049298</td>\n",
       "      <td>1.842908</td>\n",
       "      <td>674.218692</td>\n",
       "      <td>250.028490</td>\n",
       "      <td>81.357842</td>\n",
       "      <td>893.357793</td>\n",
       "      <td>0.267376</td>\n",
       "      <td>0.0</td>\n",
       "      <td>0.0</td>\n",
       "      <td>0.0</td>\n",
       "      <td>...</td>\n",
       "      <td>284.152937</td>\n",
       "      <td>10.212702</td>\n",
       "      <td>NaN</td>\n",
       "      <td>183.648622</td>\n",
       "      <td>4.810556</td>\n",
       "      <td>3889.158922</td>\n",
       "      <td>NaN</td>\n",
       "      <td>NaN</td>\n",
       "      <td>NaN</td>\n",
       "      <td>NaN</td>\n",
       "    </tr>\n",
       "    <tr>\n",
       "      <th>min</th>\n",
       "      <td>0.000000</td>\n",
       "      <td>2015.000000</td>\n",
       "      <td>0.000000</td>\n",
       "      <td>0.000000</td>\n",
       "      <td>0.000000</td>\n",
       "      <td>1.000000</td>\n",
       "      <td>0.000000</td>\n",
       "      <td>0.0</td>\n",
       "      <td>0.0</td>\n",
       "      <td>0.0</td>\n",
       "      <td>...</td>\n",
       "      <td>-48.088100</td>\n",
       "      <td>0.145139</td>\n",
       "      <td>NaN</td>\n",
       "      <td>0.000000</td>\n",
       "      <td>2.030000</td>\n",
       "      <td>1.000280</td>\n",
       "      <td>NaN</td>\n",
       "      <td>NaN</td>\n",
       "      <td>NaN</td>\n",
       "      <td>NaN</td>\n",
       "    </tr>\n",
       "    <tr>\n",
       "      <th>25%</th>\n",
       "      <td>2618.750000</td>\n",
       "      <td>2016.000000</td>\n",
       "      <td>0.000000</td>\n",
       "      <td>0.700000</td>\n",
       "      <td>0.000000</td>\n",
       "      <td>1.500000</td>\n",
       "      <td>0.000000</td>\n",
       "      <td>0.0</td>\n",
       "      <td>0.0</td>\n",
       "      <td>0.0</td>\n",
       "      <td>...</td>\n",
       "      <td>191.615250</td>\n",
       "      <td>10.581700</td>\n",
       "      <td>NaN</td>\n",
       "      <td>107.470000</td>\n",
       "      <td>13.650000</td>\n",
       "      <td>11.382600</td>\n",
       "      <td>NaN</td>\n",
       "      <td>NaN</td>\n",
       "      <td>NaN</td>\n",
       "      <td>NaN</td>\n",
       "    </tr>\n",
       "    <tr>\n",
       "      <th>50%</th>\n",
       "      <td>6993.500000</td>\n",
       "      <td>2017.000000</td>\n",
       "      <td>0.500000</td>\n",
       "      <td>1.760850</td>\n",
       "      <td>0.000000</td>\n",
       "      <td>3.000000</td>\n",
       "      <td>0.000000</td>\n",
       "      <td>0.0</td>\n",
       "      <td>0.0</td>\n",
       "      <td>0.0</td>\n",
       "      <td>...</td>\n",
       "      <td>389.247000</td>\n",
       "      <td>17.090900</td>\n",
       "      <td>NaN</td>\n",
       "      <td>169.446000</td>\n",
       "      <td>16.640000</td>\n",
       "      <td>48.593200</td>\n",
       "      <td>NaN</td>\n",
       "      <td>NaN</td>\n",
       "      <td>NaN</td>\n",
       "      <td>NaN</td>\n",
       "    </tr>\n",
       "    <tr>\n",
       "      <th>75%</th>\n",
       "      <td>12655.500000</td>\n",
       "      <td>2018.000000</td>\n",
       "      <td>2.390000</td>\n",
       "      <td>5.000000</td>\n",
       "      <td>0.000000</td>\n",
       "      <td>9.042500</td>\n",
       "      <td>0.000000</td>\n",
       "      <td>0.0</td>\n",
       "      <td>0.0</td>\n",
       "      <td>0.0</td>\n",
       "      <td>...</td>\n",
       "      <td>641.539000</td>\n",
       "      <td>25.100200</td>\n",
       "      <td>NaN</td>\n",
       "      <td>272.113000</td>\n",
       "      <td>19.760000</td>\n",
       "      <td>242.655000</td>\n",
       "      <td>NaN</td>\n",
       "      <td>NaN</td>\n",
       "      <td>NaN</td>\n",
       "      <td>NaN</td>\n",
       "    </tr>\n",
       "    <tr>\n",
       "      <th>max</th>\n",
       "      <td>21073.000000</td>\n",
       "      <td>2021.000000</td>\n",
       "      <td>47215.433221</td>\n",
       "      <td>13178.860000</td>\n",
       "      <td>5493.424200</td>\n",
       "      <td>53618.811555</td>\n",
       "      <td>1.000000</td>\n",
       "      <td>0.0</td>\n",
       "      <td>0.0</td>\n",
       "      <td>0.0</td>\n",
       "      <td>...</td>\n",
       "      <td>1493.360000</td>\n",
       "      <td>65.750600</td>\n",
       "      <td>NaN</td>\n",
       "      <td>1886.040000</td>\n",
       "      <td>37.880000</td>\n",
       "      <td>80409.600000</td>\n",
       "      <td>NaN</td>\n",
       "      <td>NaN</td>\n",
       "      <td>NaN</td>\n",
       "      <td>NaN</td>\n",
       "    </tr>\n",
       "  </tbody>\n",
       "</table>\n",
       "<p>8 rows × 51 columns</p>\n",
       "</div>"
      ],
      "text/plain": [
       "         Unnamed: 0           ANO       AREAPOV      AREAMATO     AREAAGRIC  \\\n",
       "count  15060.000000  15060.000000  15060.000000  15060.000000  15060.000000   \n",
       "mean    8106.423639   2017.184197     34.300753     25.098337      3.604649   \n",
       "std     5932.049298      1.842908    674.218692    250.028490     81.357842   \n",
       "min        0.000000   2015.000000      0.000000      0.000000      0.000000   \n",
       "25%     2618.750000   2016.000000      0.000000      0.700000      0.000000   \n",
       "50%     6993.500000   2017.000000      0.500000      1.760850      0.000000   \n",
       "75%    12655.500000   2018.000000      2.390000      5.000000      0.000000   \n",
       "max    21073.000000   2021.000000  47215.433221  13178.860000   5493.424200   \n",
       "\n",
       "          AREATOTAL  REACENDIMENTOS  QUEIMADA  FALSOALARME  FOGACHO  ...  \\\n",
       "count  15060.000000    15060.000000   15060.0      15060.0  15060.0  ...   \n",
       "mean      63.003739        0.077490       0.0          0.0      0.0  ...   \n",
       "std      893.357793        0.267376       0.0          0.0      0.0  ...   \n",
       "min        1.000000        0.000000       0.0          0.0      0.0  ...   \n",
       "25%        1.500000        0.000000       0.0          0.0      0.0  ...   \n",
       "50%        3.000000        0.000000       0.0          0.0      0.0  ...   \n",
       "75%        9.042500        0.000000       0.0          0.0      0.0  ...   \n",
       "max    53618.811555        1.000000       0.0          0.0      0.0  ...   \n",
       "\n",
       "       ALTITUDEMEDIA  DECLIVEMEDIO  HORASEXPOSICAOMEDIA   DENDIDADERV  \\\n",
       "count   15050.000000  15050.000000                  0.0  15057.000000   \n",
       "mean      430.686536     18.377798                  NaN    221.638945   \n",
       "std       284.152937     10.212702                  NaN    183.648622   \n",
       "min       -48.088100      0.145139                  NaN      0.000000   \n",
       "25%       191.615250     10.581700                  NaN    107.470000   \n",
       "50%       389.247000     17.090900                  NaN    169.446000   \n",
       "75%       641.539000     25.100200                  NaN    272.113000   \n",
       "max      1493.360000     65.750600                  NaN   1886.040000   \n",
       "\n",
       "       COSN5VARIEDADE  AREAMANCHAMODFARSITE  FICHEIROIMAGEM_GNR  \\\n",
       "count    15057.000000           9622.000000                 0.0   \n",
       "mean        16.832918            621.386593                 NaN   \n",
       "std          4.810556           3889.158922                 NaN   \n",
       "min          2.030000              1.000280                 NaN   \n",
       "25%         13.650000             11.382600                 NaN   \n",
       "50%         16.640000             48.593200                 NaN   \n",
       "75%         19.760000            242.655000                 NaN   \n",
       "max         37.880000          80409.600000                 NaN   \n",
       "\n",
       "       AREASFICHEIROSHPXML_GTF  AREASFICHEIROSBN_GTF  AREASFICHEIROSBX_GTF  \n",
       "count                      0.0                   0.0                   0.0  \n",
       "mean                       NaN                   NaN                   NaN  \n",
       "std                        NaN                   NaN                   NaN  \n",
       "min                        NaN                   NaN                   NaN  \n",
       "25%                        NaN                   NaN                   NaN  \n",
       "50%                        NaN                   NaN                   NaN  \n",
       "75%                        NaN                   NaN                   NaN  \n",
       "max                        NaN                   NaN                   NaN  \n",
       "\n",
       "[8 rows x 51 columns]"
      ]
     },
     "execution_count": 99,
     "metadata": {},
     "output_type": "execute_result"
    }
   ],
   "source": [
    "merged[(merged['INCENDIO'] == 1) & (merged['AGRICOLA'] == 0)].describe()"
   ]
  },
  {
   "cell_type": "code",
   "execution_count": 100,
   "id": "5b535ef4-38ee-4677-abe7-a33e09c135cf",
   "metadata": {},
   "outputs": [
    {
     "data": {
      "text/html": [
       "<div>\n",
       "<style scoped>\n",
       "    .dataframe tbody tr th:only-of-type {\n",
       "        vertical-align: middle;\n",
       "    }\n",
       "\n",
       "    .dataframe tbody tr th {\n",
       "        vertical-align: top;\n",
       "    }\n",
       "\n",
       "    .dataframe thead th {\n",
       "        text-align: right;\n",
       "    }\n",
       "</style>\n",
       "<table border=\"1\" class=\"dataframe\">\n",
       "  <thead>\n",
       "    <tr style=\"text-align: right;\">\n",
       "      <th></th>\n",
       "      <th>Unnamed: 0</th>\n",
       "      <th>ANO</th>\n",
       "      <th>AREAPOV</th>\n",
       "      <th>AREAMATO</th>\n",
       "      <th>AREAAGRIC</th>\n",
       "      <th>AREATOTAL</th>\n",
       "      <th>REACENDIMENTOS</th>\n",
       "      <th>QUEIMADA</th>\n",
       "      <th>FALSOALARME</th>\n",
       "      <th>FOGACHO</th>\n",
       "      <th>...</th>\n",
       "      <th>ALTITUDEMEDIA</th>\n",
       "      <th>DECLIVEMEDIO</th>\n",
       "      <th>HORASEXPOSICAOMEDIA</th>\n",
       "      <th>DENDIDADERV</th>\n",
       "      <th>COSN5VARIEDADE</th>\n",
       "      <th>AREAMANCHAMODFARSITE</th>\n",
       "      <th>FICHEIROIMAGEM_GNR</th>\n",
       "      <th>AREASFICHEIROSHPXML_GTF</th>\n",
       "      <th>AREASFICHEIROSBN_GTF</th>\n",
       "      <th>AREASFICHEIROSBX_GTF</th>\n",
       "    </tr>\n",
       "  </thead>\n",
       "  <tbody>\n",
       "    <tr>\n",
       "      <th>count</th>\n",
       "      <td>0.0</td>\n",
       "      <td>0.0</td>\n",
       "      <td>0.0</td>\n",
       "      <td>0.0</td>\n",
       "      <td>0.0</td>\n",
       "      <td>0.0</td>\n",
       "      <td>0.0</td>\n",
       "      <td>0.0</td>\n",
       "      <td>0.0</td>\n",
       "      <td>0.0</td>\n",
       "      <td>...</td>\n",
       "      <td>0.0</td>\n",
       "      <td>0.0</td>\n",
       "      <td>0.0</td>\n",
       "      <td>0.0</td>\n",
       "      <td>0.0</td>\n",
       "      <td>0.0</td>\n",
       "      <td>0.0</td>\n",
       "      <td>0.0</td>\n",
       "      <td>0.0</td>\n",
       "      <td>0.0</td>\n",
       "    </tr>\n",
       "    <tr>\n",
       "      <th>mean</th>\n",
       "      <td>NaN</td>\n",
       "      <td>NaN</td>\n",
       "      <td>NaN</td>\n",
       "      <td>NaN</td>\n",
       "      <td>NaN</td>\n",
       "      <td>NaN</td>\n",
       "      <td>NaN</td>\n",
       "      <td>NaN</td>\n",
       "      <td>NaN</td>\n",
       "      <td>NaN</td>\n",
       "      <td>...</td>\n",
       "      <td>NaN</td>\n",
       "      <td>NaN</td>\n",
       "      <td>NaN</td>\n",
       "      <td>NaN</td>\n",
       "      <td>NaN</td>\n",
       "      <td>NaN</td>\n",
       "      <td>NaN</td>\n",
       "      <td>NaN</td>\n",
       "      <td>NaN</td>\n",
       "      <td>NaN</td>\n",
       "    </tr>\n",
       "    <tr>\n",
       "      <th>std</th>\n",
       "      <td>NaN</td>\n",
       "      <td>NaN</td>\n",
       "      <td>NaN</td>\n",
       "      <td>NaN</td>\n",
       "      <td>NaN</td>\n",
       "      <td>NaN</td>\n",
       "      <td>NaN</td>\n",
       "      <td>NaN</td>\n",
       "      <td>NaN</td>\n",
       "      <td>NaN</td>\n",
       "      <td>...</td>\n",
       "      <td>NaN</td>\n",
       "      <td>NaN</td>\n",
       "      <td>NaN</td>\n",
       "      <td>NaN</td>\n",
       "      <td>NaN</td>\n",
       "      <td>NaN</td>\n",
       "      <td>NaN</td>\n",
       "      <td>NaN</td>\n",
       "      <td>NaN</td>\n",
       "      <td>NaN</td>\n",
       "    </tr>\n",
       "    <tr>\n",
       "      <th>min</th>\n",
       "      <td>NaN</td>\n",
       "      <td>NaN</td>\n",
       "      <td>NaN</td>\n",
       "      <td>NaN</td>\n",
       "      <td>NaN</td>\n",
       "      <td>NaN</td>\n",
       "      <td>NaN</td>\n",
       "      <td>NaN</td>\n",
       "      <td>NaN</td>\n",
       "      <td>NaN</td>\n",
       "      <td>...</td>\n",
       "      <td>NaN</td>\n",
       "      <td>NaN</td>\n",
       "      <td>NaN</td>\n",
       "      <td>NaN</td>\n",
       "      <td>NaN</td>\n",
       "      <td>NaN</td>\n",
       "      <td>NaN</td>\n",
       "      <td>NaN</td>\n",
       "      <td>NaN</td>\n",
       "      <td>NaN</td>\n",
       "    </tr>\n",
       "    <tr>\n",
       "      <th>25%</th>\n",
       "      <td>NaN</td>\n",
       "      <td>NaN</td>\n",
       "      <td>NaN</td>\n",
       "      <td>NaN</td>\n",
       "      <td>NaN</td>\n",
       "      <td>NaN</td>\n",
       "      <td>NaN</td>\n",
       "      <td>NaN</td>\n",
       "      <td>NaN</td>\n",
       "      <td>NaN</td>\n",
       "      <td>...</td>\n",
       "      <td>NaN</td>\n",
       "      <td>NaN</td>\n",
       "      <td>NaN</td>\n",
       "      <td>NaN</td>\n",
       "      <td>NaN</td>\n",
       "      <td>NaN</td>\n",
       "      <td>NaN</td>\n",
       "      <td>NaN</td>\n",
       "      <td>NaN</td>\n",
       "      <td>NaN</td>\n",
       "    </tr>\n",
       "    <tr>\n",
       "      <th>50%</th>\n",
       "      <td>NaN</td>\n",
       "      <td>NaN</td>\n",
       "      <td>NaN</td>\n",
       "      <td>NaN</td>\n",
       "      <td>NaN</td>\n",
       "      <td>NaN</td>\n",
       "      <td>NaN</td>\n",
       "      <td>NaN</td>\n",
       "      <td>NaN</td>\n",
       "      <td>NaN</td>\n",
       "      <td>...</td>\n",
       "      <td>NaN</td>\n",
       "      <td>NaN</td>\n",
       "      <td>NaN</td>\n",
       "      <td>NaN</td>\n",
       "      <td>NaN</td>\n",
       "      <td>NaN</td>\n",
       "      <td>NaN</td>\n",
       "      <td>NaN</td>\n",
       "      <td>NaN</td>\n",
       "      <td>NaN</td>\n",
       "    </tr>\n",
       "    <tr>\n",
       "      <th>75%</th>\n",
       "      <td>NaN</td>\n",
       "      <td>NaN</td>\n",
       "      <td>NaN</td>\n",
       "      <td>NaN</td>\n",
       "      <td>NaN</td>\n",
       "      <td>NaN</td>\n",
       "      <td>NaN</td>\n",
       "      <td>NaN</td>\n",
       "      <td>NaN</td>\n",
       "      <td>NaN</td>\n",
       "      <td>...</td>\n",
       "      <td>NaN</td>\n",
       "      <td>NaN</td>\n",
       "      <td>NaN</td>\n",
       "      <td>NaN</td>\n",
       "      <td>NaN</td>\n",
       "      <td>NaN</td>\n",
       "      <td>NaN</td>\n",
       "      <td>NaN</td>\n",
       "      <td>NaN</td>\n",
       "      <td>NaN</td>\n",
       "    </tr>\n",
       "    <tr>\n",
       "      <th>max</th>\n",
       "      <td>NaN</td>\n",
       "      <td>NaN</td>\n",
       "      <td>NaN</td>\n",
       "      <td>NaN</td>\n",
       "      <td>NaN</td>\n",
       "      <td>NaN</td>\n",
       "      <td>NaN</td>\n",
       "      <td>NaN</td>\n",
       "      <td>NaN</td>\n",
       "      <td>NaN</td>\n",
       "      <td>...</td>\n",
       "      <td>NaN</td>\n",
       "      <td>NaN</td>\n",
       "      <td>NaN</td>\n",
       "      <td>NaN</td>\n",
       "      <td>NaN</td>\n",
       "      <td>NaN</td>\n",
       "      <td>NaN</td>\n",
       "      <td>NaN</td>\n",
       "      <td>NaN</td>\n",
       "      <td>NaN</td>\n",
       "    </tr>\n",
       "  </tbody>\n",
       "</table>\n",
       "<p>8 rows × 51 columns</p>\n",
       "</div>"
      ],
      "text/plain": [
       "       Unnamed: 0  ANO  AREAPOV  AREAMATO  AREAAGRIC  AREATOTAL  \\\n",
       "count         0.0  0.0      0.0       0.0        0.0        0.0   \n",
       "mean          NaN  NaN      NaN       NaN        NaN        NaN   \n",
       "std           NaN  NaN      NaN       NaN        NaN        NaN   \n",
       "min           NaN  NaN      NaN       NaN        NaN        NaN   \n",
       "25%           NaN  NaN      NaN       NaN        NaN        NaN   \n",
       "50%           NaN  NaN      NaN       NaN        NaN        NaN   \n",
       "75%           NaN  NaN      NaN       NaN        NaN        NaN   \n",
       "max           NaN  NaN      NaN       NaN        NaN        NaN   \n",
       "\n",
       "       REACENDIMENTOS  QUEIMADA  FALSOALARME  FOGACHO  ...  ALTITUDEMEDIA  \\\n",
       "count             0.0       0.0          0.0      0.0  ...            0.0   \n",
       "mean              NaN       NaN          NaN      NaN  ...            NaN   \n",
       "std               NaN       NaN          NaN      NaN  ...            NaN   \n",
       "min               NaN       NaN          NaN      NaN  ...            NaN   \n",
       "25%               NaN       NaN          NaN      NaN  ...            NaN   \n",
       "50%               NaN       NaN          NaN      NaN  ...            NaN   \n",
       "75%               NaN       NaN          NaN      NaN  ...            NaN   \n",
       "max               NaN       NaN          NaN      NaN  ...            NaN   \n",
       "\n",
       "       DECLIVEMEDIO  HORASEXPOSICAOMEDIA  DENDIDADERV  COSN5VARIEDADE  \\\n",
       "count           0.0                  0.0          0.0             0.0   \n",
       "mean            NaN                  NaN          NaN             NaN   \n",
       "std             NaN                  NaN          NaN             NaN   \n",
       "min             NaN                  NaN          NaN             NaN   \n",
       "25%             NaN                  NaN          NaN             NaN   \n",
       "50%             NaN                  NaN          NaN             NaN   \n",
       "75%             NaN                  NaN          NaN             NaN   \n",
       "max             NaN                  NaN          NaN             NaN   \n",
       "\n",
       "       AREAMANCHAMODFARSITE  FICHEIROIMAGEM_GNR  AREASFICHEIROSHPXML_GTF  \\\n",
       "count                   0.0                 0.0                      0.0   \n",
       "mean                    NaN                 NaN                      NaN   \n",
       "std                     NaN                 NaN                      NaN   \n",
       "min                     NaN                 NaN                      NaN   \n",
       "25%                     NaN                 NaN                      NaN   \n",
       "50%                     NaN                 NaN                      NaN   \n",
       "75%                     NaN                 NaN                      NaN   \n",
       "max                     NaN                 NaN                      NaN   \n",
       "\n",
       "       AREASFICHEIROSBN_GTF  AREASFICHEIROSBX_GTF  \n",
       "count                   0.0                   0.0  \n",
       "mean                    NaN                   NaN  \n",
       "std                     NaN                   NaN  \n",
       "min                     NaN                   NaN  \n",
       "25%                     NaN                   NaN  \n",
       "50%                     NaN                   NaN  \n",
       "75%                     NaN                   NaN  \n",
       "max                     NaN                   NaN  \n",
       "\n",
       "[8 rows x 51 columns]"
      ]
     },
     "execution_count": 100,
     "metadata": {},
     "output_type": "execute_result"
    }
   ],
   "source": [
    "merged[(merged['INCENDIO'] == 1) & (merged['AGRICOLA'] == 1)].describe()"
   ]
  },
  {
   "cell_type": "code",
   "execution_count": 101,
   "id": "cfb1c8b3-bca5-4ce3-933a-052e02cc9ec1",
   "metadata": {},
   "outputs": [
    {
     "data": {
      "text/html": [
       "<div>\n",
       "<style scoped>\n",
       "    .dataframe tbody tr th:only-of-type {\n",
       "        vertical-align: middle;\n",
       "    }\n",
       "\n",
       "    .dataframe tbody tr th {\n",
       "        vertical-align: top;\n",
       "    }\n",
       "\n",
       "    .dataframe thead th {\n",
       "        text-align: right;\n",
       "    }\n",
       "</style>\n",
       "<table border=\"1\" class=\"dataframe\">\n",
       "  <thead>\n",
       "    <tr style=\"text-align: right;\">\n",
       "      <th></th>\n",
       "      <th>Unnamed: 0</th>\n",
       "      <th>ANO</th>\n",
       "      <th>AREAPOV</th>\n",
       "      <th>AREAMATO</th>\n",
       "      <th>AREAAGRIC</th>\n",
       "      <th>AREATOTAL</th>\n",
       "      <th>REACENDIMENTOS</th>\n",
       "      <th>QUEIMADA</th>\n",
       "      <th>FALSOALARME</th>\n",
       "      <th>FOGACHO</th>\n",
       "      <th>...</th>\n",
       "      <th>ALTITUDEMEDIA</th>\n",
       "      <th>DECLIVEMEDIO</th>\n",
       "      <th>HORASEXPOSICAOMEDIA</th>\n",
       "      <th>DENDIDADERV</th>\n",
       "      <th>COSN5VARIEDADE</th>\n",
       "      <th>AREAMANCHAMODFARSITE</th>\n",
       "      <th>FICHEIROIMAGEM_GNR</th>\n",
       "      <th>AREASFICHEIROSHPXML_GTF</th>\n",
       "      <th>AREASFICHEIROSBN_GTF</th>\n",
       "      <th>AREASFICHEIROSBX_GTF</th>\n",
       "    </tr>\n",
       "  </thead>\n",
       "  <tbody>\n",
       "    <tr>\n",
       "      <th>count</th>\n",
       "      <td>63101.000000</td>\n",
       "      <td>63101.000000</td>\n",
       "      <td>63101.000000</td>\n",
       "      <td>63101.000000</td>\n",
       "      <td>63101.000000</td>\n",
       "      <td>63101.000000</td>\n",
       "      <td>63101.000000</td>\n",
       "      <td>63101.0</td>\n",
       "      <td>63101.0</td>\n",
       "      <td>63101.0</td>\n",
       "      <td>...</td>\n",
       "      <td>63078.00000</td>\n",
       "      <td>63078.000000</td>\n",
       "      <td>0.0</td>\n",
       "      <td>63094.000000</td>\n",
       "      <td>63095.000000</td>\n",
       "      <td>34472.000000</td>\n",
       "      <td>0.0</td>\n",
       "      <td>0.0</td>\n",
       "      <td>0.0</td>\n",
       "      <td>0.0</td>\n",
       "    </tr>\n",
       "    <tr>\n",
       "      <th>mean</th>\n",
       "      <td>7955.687026</td>\n",
       "      <td>2017.372989</td>\n",
       "      <td>0.039499</td>\n",
       "      <td>0.093928</td>\n",
       "      <td>0.000470</td>\n",
       "      <td>0.133898</td>\n",
       "      <td>0.085244</td>\n",
       "      <td>0.0</td>\n",
       "      <td>0.0</td>\n",
       "      <td>1.0</td>\n",
       "      <td>...</td>\n",
       "      <td>271.96922</td>\n",
       "      <td>14.482271</td>\n",
       "      <td>NaN</td>\n",
       "      <td>364.138303</td>\n",
       "      <td>18.336068</td>\n",
       "      <td>382.761637</td>\n",
       "      <td>NaN</td>\n",
       "      <td>NaN</td>\n",
       "      <td>NaN</td>\n",
       "      <td>NaN</td>\n",
       "    </tr>\n",
       "    <tr>\n",
       "      <th>std</th>\n",
       "      <td>4973.239146</td>\n",
       "      <td>1.846474</td>\n",
       "      <td>0.124766</td>\n",
       "      <td>0.175898</td>\n",
       "      <td>0.011247</td>\n",
       "      <td>0.206710</td>\n",
       "      <td>0.279247</td>\n",
       "      <td>0.0</td>\n",
       "      <td>0.0</td>\n",
       "      <td>0.0</td>\n",
       "      <td>...</td>\n",
       "      <td>232.11691</td>\n",
       "      <td>9.213414</td>\n",
       "      <td>NaN</td>\n",
       "      <td>282.289278</td>\n",
       "      <td>4.645045</td>\n",
       "      <td>1884.364291</td>\n",
       "      <td>NaN</td>\n",
       "      <td>NaN</td>\n",
       "      <td>NaN</td>\n",
       "      <td>NaN</td>\n",
       "    </tr>\n",
       "    <tr>\n",
       "      <th>min</th>\n",
       "      <td>0.000000</td>\n",
       "      <td>2015.000000</td>\n",
       "      <td>0.000000</td>\n",
       "      <td>0.000000</td>\n",
       "      <td>0.000000</td>\n",
       "      <td>0.000000</td>\n",
       "      <td>0.000000</td>\n",
       "      <td>0.0</td>\n",
       "      <td>0.0</td>\n",
       "      <td>1.0</td>\n",
       "      <td>...</td>\n",
       "      <td>-63.79250</td>\n",
       "      <td>0.116583</td>\n",
       "      <td>NaN</td>\n",
       "      <td>3.316050</td>\n",
       "      <td>1.000000</td>\n",
       "      <td>1.000280</td>\n",
       "      <td>NaN</td>\n",
       "      <td>NaN</td>\n",
       "      <td>NaN</td>\n",
       "      <td>NaN</td>\n",
       "    </tr>\n",
       "    <tr>\n",
       "      <th>25%</th>\n",
       "      <td>3999.000000</td>\n",
       "      <td>2016.000000</td>\n",
       "      <td>0.000000</td>\n",
       "      <td>0.001000</td>\n",
       "      <td>0.000000</td>\n",
       "      <td>0.010000</td>\n",
       "      <td>0.000000</td>\n",
       "      <td>0.0</td>\n",
       "      <td>0.0</td>\n",
       "      <td>1.0</td>\n",
       "      <td>...</td>\n",
       "      <td>92.25250</td>\n",
       "      <td>7.434630</td>\n",
       "      <td>NaN</td>\n",
       "      <td>167.426500</td>\n",
       "      <td>15.260000</td>\n",
       "      <td>7.844660</td>\n",
       "      <td>NaN</td>\n",
       "      <td>NaN</td>\n",
       "      <td>NaN</td>\n",
       "      <td>NaN</td>\n",
       "    </tr>\n",
       "    <tr>\n",
       "      <th>50%</th>\n",
       "      <td>7102.000000</td>\n",
       "      <td>2017.000000</td>\n",
       "      <td>0.000000</td>\n",
       "      <td>0.019000</td>\n",
       "      <td>0.000000</td>\n",
       "      <td>0.040000</td>\n",
       "      <td>0.000000</td>\n",
       "      <td>0.0</td>\n",
       "      <td>0.0</td>\n",
       "      <td>1.0</td>\n",
       "      <td>...</td>\n",
       "      <td>206.31400</td>\n",
       "      <td>12.735000</td>\n",
       "      <td>NaN</td>\n",
       "      <td>277.097000</td>\n",
       "      <td>18.250000</td>\n",
       "      <td>32.052500</td>\n",
       "      <td>NaN</td>\n",
       "      <td>NaN</td>\n",
       "      <td>NaN</td>\n",
       "      <td>NaN</td>\n",
       "    </tr>\n",
       "    <tr>\n",
       "      <th>75%</th>\n",
       "      <td>11082.000000</td>\n",
       "      <td>2019.000000</td>\n",
       "      <td>0.000000</td>\n",
       "      <td>0.100000</td>\n",
       "      <td>0.000000</td>\n",
       "      <td>0.150000</td>\n",
       "      <td>0.000000</td>\n",
       "      <td>0.0</td>\n",
       "      <td>0.0</td>\n",
       "      <td>1.0</td>\n",
       "      <td>...</td>\n",
       "      <td>391.73900</td>\n",
       "      <td>19.575850</td>\n",
       "      <td>NaN</td>\n",
       "      <td>456.159250</td>\n",
       "      <td>21.320000</td>\n",
       "      <td>164.630000</td>\n",
       "      <td>NaN</td>\n",
       "      <td>NaN</td>\n",
       "      <td>NaN</td>\n",
       "      <td>NaN</td>\n",
       "    </tr>\n",
       "    <tr>\n",
       "      <th>max</th>\n",
       "      <td>21071.000000</td>\n",
       "      <td>2021.000000</td>\n",
       "      <td>0.996400</td>\n",
       "      <td>0.999800</td>\n",
       "      <td>0.600000</td>\n",
       "      <td>1.590000</td>\n",
       "      <td>1.000000</td>\n",
       "      <td>0.0</td>\n",
       "      <td>0.0</td>\n",
       "      <td>1.0</td>\n",
       "      <td>...</td>\n",
       "      <td>1566.93000</td>\n",
       "      <td>61.070100</td>\n",
       "      <td>NaN</td>\n",
       "      <td>2027.110000</td>\n",
       "      <td>39.560000</td>\n",
       "      <td>80409.600000</td>\n",
       "      <td>NaN</td>\n",
       "      <td>NaN</td>\n",
       "      <td>NaN</td>\n",
       "      <td>NaN</td>\n",
       "    </tr>\n",
       "  </tbody>\n",
       "</table>\n",
       "<p>8 rows × 51 columns</p>\n",
       "</div>"
      ],
      "text/plain": [
       "         Unnamed: 0           ANO       AREAPOV      AREAMATO     AREAAGRIC  \\\n",
       "count  63101.000000  63101.000000  63101.000000  63101.000000  63101.000000   \n",
       "mean    7955.687026   2017.372989      0.039499      0.093928      0.000470   \n",
       "std     4973.239146      1.846474      0.124766      0.175898      0.011247   \n",
       "min        0.000000   2015.000000      0.000000      0.000000      0.000000   \n",
       "25%     3999.000000   2016.000000      0.000000      0.001000      0.000000   \n",
       "50%     7102.000000   2017.000000      0.000000      0.019000      0.000000   \n",
       "75%    11082.000000   2019.000000      0.000000      0.100000      0.000000   \n",
       "max    21071.000000   2021.000000      0.996400      0.999800      0.600000   \n",
       "\n",
       "          AREATOTAL  REACENDIMENTOS  QUEIMADA  FALSOALARME  FOGACHO  ...  \\\n",
       "count  63101.000000    63101.000000   63101.0      63101.0  63101.0  ...   \n",
       "mean       0.133898        0.085244       0.0          0.0      1.0  ...   \n",
       "std        0.206710        0.279247       0.0          0.0      0.0  ...   \n",
       "min        0.000000        0.000000       0.0          0.0      1.0  ...   \n",
       "25%        0.010000        0.000000       0.0          0.0      1.0  ...   \n",
       "50%        0.040000        0.000000       0.0          0.0      1.0  ...   \n",
       "75%        0.150000        0.000000       0.0          0.0      1.0  ...   \n",
       "max        1.590000        1.000000       0.0          0.0      1.0  ...   \n",
       "\n",
       "       ALTITUDEMEDIA  DECLIVEMEDIO  HORASEXPOSICAOMEDIA   DENDIDADERV  \\\n",
       "count    63078.00000  63078.000000                  0.0  63094.000000   \n",
       "mean       271.96922     14.482271                  NaN    364.138303   \n",
       "std        232.11691      9.213414                  NaN    282.289278   \n",
       "min        -63.79250      0.116583                  NaN      3.316050   \n",
       "25%         92.25250      7.434630                  NaN    167.426500   \n",
       "50%        206.31400     12.735000                  NaN    277.097000   \n",
       "75%        391.73900     19.575850                  NaN    456.159250   \n",
       "max       1566.93000     61.070100                  NaN   2027.110000   \n",
       "\n",
       "       COSN5VARIEDADE  AREAMANCHAMODFARSITE  FICHEIROIMAGEM_GNR  \\\n",
       "count    63095.000000          34472.000000                 0.0   \n",
       "mean        18.336068            382.761637                 NaN   \n",
       "std          4.645045           1884.364291                 NaN   \n",
       "min          1.000000              1.000280                 NaN   \n",
       "25%         15.260000              7.844660                 NaN   \n",
       "50%         18.250000             32.052500                 NaN   \n",
       "75%         21.320000            164.630000                 NaN   \n",
       "max         39.560000          80409.600000                 NaN   \n",
       "\n",
       "       AREASFICHEIROSHPXML_GTF  AREASFICHEIROSBN_GTF  AREASFICHEIROSBX_GTF  \n",
       "count                      0.0                   0.0                   0.0  \n",
       "mean                       NaN                   NaN                   NaN  \n",
       "std                        NaN                   NaN                   NaN  \n",
       "min                        NaN                   NaN                   NaN  \n",
       "25%                        NaN                   NaN                   NaN  \n",
       "50%                        NaN                   NaN                   NaN  \n",
       "75%                        NaN                   NaN                   NaN  \n",
       "max                        NaN                   NaN                   NaN  \n",
       "\n",
       "[8 rows x 51 columns]"
      ]
     },
     "execution_count": 101,
     "metadata": {},
     "output_type": "execute_result"
    }
   ],
   "source": [
    "merged[(merged['INCENDIO'] == 0) & (merged['AGRICOLA'] == 0)].describe()"
   ]
  },
  {
   "cell_type": "code",
   "execution_count": 102,
   "id": "d6ebd7d6-2076-43ed-ab4a-df94d30d5150",
   "metadata": {},
   "outputs": [
    {
     "data": {
      "text/html": [
       "<div>\n",
       "<style scoped>\n",
       "    .dataframe tbody tr th:only-of-type {\n",
       "        vertical-align: middle;\n",
       "    }\n",
       "\n",
       "    .dataframe tbody tr th {\n",
       "        vertical-align: top;\n",
       "    }\n",
       "\n",
       "    .dataframe thead th {\n",
       "        text-align: right;\n",
       "    }\n",
       "</style>\n",
       "<table border=\"1\" class=\"dataframe\">\n",
       "  <thead>\n",
       "    <tr style=\"text-align: right;\">\n",
       "      <th></th>\n",
       "      <th>Unnamed: 0</th>\n",
       "      <th>ANO</th>\n",
       "      <th>AREAPOV</th>\n",
       "      <th>AREAMATO</th>\n",
       "      <th>AREAAGRIC</th>\n",
       "      <th>AREATOTAL</th>\n",
       "      <th>REACENDIMENTOS</th>\n",
       "      <th>QUEIMADA</th>\n",
       "      <th>FALSOALARME</th>\n",
       "      <th>FOGACHO</th>\n",
       "      <th>...</th>\n",
       "      <th>ALTITUDEMEDIA</th>\n",
       "      <th>DECLIVEMEDIO</th>\n",
       "      <th>HORASEXPOSICAOMEDIA</th>\n",
       "      <th>DENDIDADERV</th>\n",
       "      <th>COSN5VARIEDADE</th>\n",
       "      <th>AREAMANCHAMODFARSITE</th>\n",
       "      <th>FICHEIROIMAGEM_GNR</th>\n",
       "      <th>AREASFICHEIROSHPXML_GTF</th>\n",
       "      <th>AREASFICHEIROSBN_GTF</th>\n",
       "      <th>AREASFICHEIROSBX_GTF</th>\n",
       "    </tr>\n",
       "  </thead>\n",
       "  <tbody>\n",
       "    <tr>\n",
       "      <th>count</th>\n",
       "      <td>18627.000000</td>\n",
       "      <td>18627.000000</td>\n",
       "      <td>18627.000000</td>\n",
       "      <td>18627.000000</td>\n",
       "      <td>18627.000000</td>\n",
       "      <td>18627.000000</td>\n",
       "      <td>18627.000000</td>\n",
       "      <td>18627.0</td>\n",
       "      <td>18627.0</td>\n",
       "      <td>18627.0</td>\n",
       "      <td>...</td>\n",
       "      <td>18618.000000</td>\n",
       "      <td>18618.000000</td>\n",
       "      <td>0.0</td>\n",
       "      <td>18623.000000</td>\n",
       "      <td>18624.000000</td>\n",
       "      <td>8323.000000</td>\n",
       "      <td>0.0</td>\n",
       "      <td>0.0</td>\n",
       "      <td>0.0</td>\n",
       "      <td>0.0</td>\n",
       "    </tr>\n",
       "    <tr>\n",
       "      <th>mean</th>\n",
       "      <td>6882.230042</td>\n",
       "      <td>2017.507758</td>\n",
       "      <td>0.001146</td>\n",
       "      <td>0.001378</td>\n",
       "      <td>0.761136</td>\n",
       "      <td>0.763659</td>\n",
       "      <td>0.008590</td>\n",
       "      <td>0.0</td>\n",
       "      <td>0.0</td>\n",
       "      <td>0.0</td>\n",
       "      <td>...</td>\n",
       "      <td>172.051119</td>\n",
       "      <td>8.682285</td>\n",
       "      <td>NaN</td>\n",
       "      <td>305.549562</td>\n",
       "      <td>17.194623</td>\n",
       "      <td>2078.655240</td>\n",
       "      <td>NaN</td>\n",
       "      <td>NaN</td>\n",
       "      <td>NaN</td>\n",
       "      <td>NaN</td>\n",
       "    </tr>\n",
       "    <tr>\n",
       "      <th>std</th>\n",
       "      <td>5533.195144</td>\n",
       "      <td>1.934691</td>\n",
       "      <td>0.021159</td>\n",
       "      <td>0.026193</td>\n",
       "      <td>18.086911</td>\n",
       "      <td>18.087325</td>\n",
       "      <td>0.092284</td>\n",
       "      <td>0.0</td>\n",
       "      <td>0.0</td>\n",
       "      <td>0.0</td>\n",
       "      <td>...</td>\n",
       "      <td>180.255667</td>\n",
       "      <td>7.189649</td>\n",
       "      <td>NaN</td>\n",
       "      <td>251.141730</td>\n",
       "      <td>5.538510</td>\n",
       "      <td>8288.413331</td>\n",
       "      <td>NaN</td>\n",
       "      <td>NaN</td>\n",
       "      <td>NaN</td>\n",
       "      <td>NaN</td>\n",
       "    </tr>\n",
       "    <tr>\n",
       "      <th>min</th>\n",
       "      <td>0.000000</td>\n",
       "      <td>2015.000000</td>\n",
       "      <td>0.000000</td>\n",
       "      <td>0.000000</td>\n",
       "      <td>0.000000</td>\n",
       "      <td>0.000000</td>\n",
       "      <td>0.000000</td>\n",
       "      <td>0.0</td>\n",
       "      <td>0.0</td>\n",
       "      <td>0.0</td>\n",
       "      <td>...</td>\n",
       "      <td>-63.792500</td>\n",
       "      <td>0.116583</td>\n",
       "      <td>NaN</td>\n",
       "      <td>2.334930</td>\n",
       "      <td>1.000000</td>\n",
       "      <td>1.000280</td>\n",
       "      <td>NaN</td>\n",
       "      <td>NaN</td>\n",
       "      <td>NaN</td>\n",
       "      <td>NaN</td>\n",
       "    </tr>\n",
       "    <tr>\n",
       "      <th>25%</th>\n",
       "      <td>1804.000000</td>\n",
       "      <td>2016.000000</td>\n",
       "      <td>0.000000</td>\n",
       "      <td>0.000000</td>\n",
       "      <td>0.005000</td>\n",
       "      <td>0.005000</td>\n",
       "      <td>0.000000</td>\n",
       "      <td>0.0</td>\n",
       "      <td>0.0</td>\n",
       "      <td>0.0</td>\n",
       "      <td>...</td>\n",
       "      <td>41.016900</td>\n",
       "      <td>3.486650</td>\n",
       "      <td>NaN</td>\n",
       "      <td>130.102000</td>\n",
       "      <td>13.500000</td>\n",
       "      <td>8.537080</td>\n",
       "      <td>NaN</td>\n",
       "      <td>NaN</td>\n",
       "      <td>NaN</td>\n",
       "      <td>NaN</td>\n",
       "    </tr>\n",
       "    <tr>\n",
       "      <th>50%</th>\n",
       "      <td>5922.000000</td>\n",
       "      <td>2017.000000</td>\n",
       "      <td>0.000000</td>\n",
       "      <td>0.000000</td>\n",
       "      <td>0.030000</td>\n",
       "      <td>0.030000</td>\n",
       "      <td>0.000000</td>\n",
       "      <td>0.0</td>\n",
       "      <td>0.0</td>\n",
       "      <td>0.0</td>\n",
       "      <td>...</td>\n",
       "      <td>125.673000</td>\n",
       "      <td>6.608720</td>\n",
       "      <td>NaN</td>\n",
       "      <td>254.842000</td>\n",
       "      <td>17.190000</td>\n",
       "      <td>44.471400</td>\n",
       "      <td>NaN</td>\n",
       "      <td>NaN</td>\n",
       "      <td>NaN</td>\n",
       "      <td>NaN</td>\n",
       "    </tr>\n",
       "    <tr>\n",
       "      <th>75%</th>\n",
       "      <td>10802.000000</td>\n",
       "      <td>2019.000000</td>\n",
       "      <td>0.000000</td>\n",
       "      <td>0.000000</td>\n",
       "      <td>0.200000</td>\n",
       "      <td>0.200600</td>\n",
       "      <td>0.000000</td>\n",
       "      <td>0.0</td>\n",
       "      <td>0.0</td>\n",
       "      <td>0.0</td>\n",
       "      <td>...</td>\n",
       "      <td>230.537000</td>\n",
       "      <td>11.967800</td>\n",
       "      <td>NaN</td>\n",
       "      <td>391.604500</td>\n",
       "      <td>20.770000</td>\n",
       "      <td>409.880000</td>\n",
       "      <td>NaN</td>\n",
       "      <td>NaN</td>\n",
       "      <td>NaN</td>\n",
       "      <td>NaN</td>\n",
       "    </tr>\n",
       "    <tr>\n",
       "      <th>max</th>\n",
       "      <td>21069.000000</td>\n",
       "      <td>2021.000000</td>\n",
       "      <td>0.836500</td>\n",
       "      <td>0.910000</td>\n",
       "      <td>2382.000000</td>\n",
       "      <td>2382.000000</td>\n",
       "      <td>1.000000</td>\n",
       "      <td>0.0</td>\n",
       "      <td>0.0</td>\n",
       "      <td>0.0</td>\n",
       "      <td>...</td>\n",
       "      <td>1156.400000</td>\n",
       "      <td>53.245100</td>\n",
       "      <td>NaN</td>\n",
       "      <td>1947.100000</td>\n",
       "      <td>39.560000</td>\n",
       "      <td>80409.600000</td>\n",
       "      <td>NaN</td>\n",
       "      <td>NaN</td>\n",
       "      <td>NaN</td>\n",
       "      <td>NaN</td>\n",
       "    </tr>\n",
       "  </tbody>\n",
       "</table>\n",
       "<p>8 rows × 51 columns</p>\n",
       "</div>"
      ],
      "text/plain": [
       "         Unnamed: 0           ANO       AREAPOV      AREAMATO     AREAAGRIC  \\\n",
       "count  18627.000000  18627.000000  18627.000000  18627.000000  18627.000000   \n",
       "mean    6882.230042   2017.507758      0.001146      0.001378      0.761136   \n",
       "std     5533.195144      1.934691      0.021159      0.026193     18.086911   \n",
       "min        0.000000   2015.000000      0.000000      0.000000      0.000000   \n",
       "25%     1804.000000   2016.000000      0.000000      0.000000      0.005000   \n",
       "50%     5922.000000   2017.000000      0.000000      0.000000      0.030000   \n",
       "75%    10802.000000   2019.000000      0.000000      0.000000      0.200000   \n",
       "max    21069.000000   2021.000000      0.836500      0.910000   2382.000000   \n",
       "\n",
       "          AREATOTAL  REACENDIMENTOS  QUEIMADA  FALSOALARME  FOGACHO  ...  \\\n",
       "count  18627.000000    18627.000000   18627.0      18627.0  18627.0  ...   \n",
       "mean       0.763659        0.008590       0.0          0.0      0.0  ...   \n",
       "std       18.087325        0.092284       0.0          0.0      0.0  ...   \n",
       "min        0.000000        0.000000       0.0          0.0      0.0  ...   \n",
       "25%        0.005000        0.000000       0.0          0.0      0.0  ...   \n",
       "50%        0.030000        0.000000       0.0          0.0      0.0  ...   \n",
       "75%        0.200600        0.000000       0.0          0.0      0.0  ...   \n",
       "max     2382.000000        1.000000       0.0          0.0      0.0  ...   \n",
       "\n",
       "       ALTITUDEMEDIA  DECLIVEMEDIO  HORASEXPOSICAOMEDIA   DENDIDADERV  \\\n",
       "count   18618.000000  18618.000000                  0.0  18623.000000   \n",
       "mean      172.051119      8.682285                  NaN    305.549562   \n",
       "std       180.255667      7.189649                  NaN    251.141730   \n",
       "min       -63.792500      0.116583                  NaN      2.334930   \n",
       "25%        41.016900      3.486650                  NaN    130.102000   \n",
       "50%       125.673000      6.608720                  NaN    254.842000   \n",
       "75%       230.537000     11.967800                  NaN    391.604500   \n",
       "max      1156.400000     53.245100                  NaN   1947.100000   \n",
       "\n",
       "       COSN5VARIEDADE  AREAMANCHAMODFARSITE  FICHEIROIMAGEM_GNR  \\\n",
       "count    18624.000000           8323.000000                 0.0   \n",
       "mean        17.194623           2078.655240                 NaN   \n",
       "std          5.538510           8288.413331                 NaN   \n",
       "min          1.000000              1.000280                 NaN   \n",
       "25%         13.500000              8.537080                 NaN   \n",
       "50%         17.190000             44.471400                 NaN   \n",
       "75%         20.770000            409.880000                 NaN   \n",
       "max         39.560000          80409.600000                 NaN   \n",
       "\n",
       "       AREASFICHEIROSHPXML_GTF  AREASFICHEIROSBN_GTF  AREASFICHEIROSBX_GTF  \n",
       "count                      0.0                   0.0                   0.0  \n",
       "mean                       NaN                   NaN                   NaN  \n",
       "std                        NaN                   NaN                   NaN  \n",
       "min                        NaN                   NaN                   NaN  \n",
       "25%                        NaN                   NaN                   NaN  \n",
       "50%                        NaN                   NaN                   NaN  \n",
       "75%                        NaN                   NaN                   NaN  \n",
       "max                        NaN                   NaN                   NaN  \n",
       "\n",
       "[8 rows x 51 columns]"
      ]
     },
     "execution_count": 102,
     "metadata": {},
     "output_type": "execute_result"
    }
   ],
   "source": [
    "merged[(merged['INCENDIO'] == 0) & (merged['AGRICOLA'] == 1)].describe()"
   ]
  },
  {
   "cell_type": "markdown",
   "id": "21b20d93-4897-4c7d-b443-9c707e6471e8",
   "metadata": {},
   "source": [
    "I can't seem to find a simple pattern - it's definitely weird. With the information I have right now, **I have no grounds for filtering**. "
   ]
  },
  {
   "cell_type": "markdown",
   "id": "fcce893c-d9f9-4e0c-888a-4372b0a7f419",
   "metadata": {},
   "source": [
    "### Cause"
   ]
  },
  {
   "cell_type": "code",
   "execution_count": 67,
   "id": "e2238c6c-d156-4c18-a782-f0979db999c2",
   "metadata": {},
   "outputs": [
    {
     "data": {
      "text/plain": [
       "array([221., 236.,  22., 234.,  60., 211., 222., 630., 142., 446., 124.,\n",
       "       145., 127., 152., 121., 448., 232., 449.,  51., 610., 227., 215.,\n",
       "       129., 125.,   4., 445., 151., 223., 114., 112., 213., 122., 711.,\n",
       "       115., 412., 133., 235., 126.,   6.,  15., 161.,  14., 413.,  nan,\n",
       "       132., 311.,  44., 419.,  31.,  12.,  37., 181.,   3., 123.,  11.,\n",
       "        38., 417., 333., 620., 131.,  23., 334.,  13., 226., 212., 335.,\n",
       "       312., 225., 162., 128., 214., 113., 441., 444., 144., 336., 182.,\n",
       "       224., 233.,   2.,  21., 141., 172.,   5., 171., 143., 111., 173.,\n",
       "       116.,  16.,  17., 371.,  18.,  41., 231.,  33.])"
      ]
     },
     "execution_count": 67,
     "metadata": {},
     "output_type": "execute_result"
    }
   ],
   "source": [
    "merged['CAUSA'].unique()"
   ]
  },
  {
   "cell_type": "code",
   "execution_count": 68,
   "id": "a51bddca-a065-467c-9624-0a26371e14f3",
   "metadata": {},
   "outputs": [
    {
     "data": {
      "text/plain": [
       "array(['Negligente', 'Desconhecida', 'Intencional', 'Natural',\n",
       "       'Reacendimento', nan], dtype=object)"
      ]
     },
     "execution_count": 68,
     "metadata": {},
     "output_type": "execute_result"
    }
   ],
   "source": [
    "merged['TIPOCAUSA'].unique()"
   ]
  },
  {
   "cell_type": "code",
   "execution_count": 69,
   "id": "383cf215-57cd-4728-8445-722af7d27611",
   "metadata": {},
   "outputs": [
    {
     "data": {
      "text/plain": [
       "array(['Acidentais - Maquinaria', 'Acidentais - Outros', 'Indeterminadas',\n",
       "       'Acidentais - Transportes e Comunicações',\n",
       "       'Uso do fogo - Fogueiras', 'Incendiarismo - Imputáveis',\n",
       "       'Queimas amontoados de sobrantes florestais ou agrícolas',\n",
       "       'Queimadas de sobrantes florestais ou agrícolas',\n",
       "       'Uso do fogo - Fumar', 'Naturais',\n",
       "       'Queimadas para gestão de pasto para gado',\n",
       "       'Incendiarismo - Sem motivação conhecida',\n",
       "       'Uso do fogo - Queima de lixo', 'Reacendimentos',\n",
       "       'Uso do fogo - Lançamento Foguetes', 'Uso do fogo - Outros', nan,\n",
       "       'Estruturais - Caça e vida selvagem', 'Estruturais - Outras',\n",
       "       'Incendiarismo - Inimputáveis', 'Estruturais - Uso do solo'],\n",
       "      dtype=object)"
      ]
     },
     "execution_count": 69,
     "metadata": {},
     "output_type": "execute_result"
    }
   ],
   "source": [
    "merged['CAUSAFAMILIA'].unique()"
   ]
  },
  {
   "cell_type": "markdown",
   "id": "551885d8-1b1d-47b5-bf14-7b8f977cef71",
   "metadata": {},
   "source": [
    "There doesn't seem to be any cause we should filter out. We have \"reacendimentos\", but although it's technically the same forest fire, it's new are being burnt, so we want to take that into account. **No filtering whatsoever needed**."
   ]
  },
  {
   "cell_type": "markdown",
   "id": "015bbcbc-16b4-4e9a-b466-f486c2c62486",
   "metadata": {},
   "source": [
    "### Event duration"
   ]
  },
  {
   "cell_type": "markdown",
   "id": "04136ecb-de53-493c-8c0d-ddf8b04a67e5",
   "metadata": {},
   "source": [
    "I imagine this is in... hours?"
   ]
  },
  {
   "cell_type": "code",
   "execution_count": 71,
   "id": "6a36a00b-d6e4-4bf9-a676-e35da7c6a9b5",
   "metadata": {},
   "outputs": [
    {
     "data": {
      "text/plain": [
       "count    96562.000000\n",
       "mean        81.644674\n",
       "std        249.515614\n",
       "min       -999.000000\n",
       "25%         27.000000\n",
       "50%         45.000000\n",
       "75%         80.000000\n",
       "max      43212.000000\n",
       "Name: DURACAO, dtype: float64"
      ]
     },
     "execution_count": 71,
     "metadata": {},
     "output_type": "execute_result"
    }
   ],
   "source": [
    "merged['DURACAO'].describe()"
   ]
  },
  {
   "cell_type": "code",
   "execution_count": 81,
   "id": "dc7ad974-a47b-4cd2-b94a-7b2f8da156bf",
   "metadata": {},
   "outputs": [
    {
     "data": {
      "text/html": [
       "<div>\n",
       "<style scoped>\n",
       "    .dataframe tbody tr th:only-of-type {\n",
       "        vertical-align: middle;\n",
       "    }\n",
       "\n",
       "    .dataframe tbody tr th {\n",
       "        vertical-align: top;\n",
       "    }\n",
       "\n",
       "    .dataframe thead th {\n",
       "        text-align: right;\n",
       "    }\n",
       "</style>\n",
       "<table border=\"1\" class=\"dataframe\">\n",
       "  <thead>\n",
       "    <tr style=\"text-align: right;\">\n",
       "      <th></th>\n",
       "      <th>Unnamed: 0</th>\n",
       "      <th>DISTRITO</th>\n",
       "      <th>TIPO</th>\n",
       "      <th>ANO</th>\n",
       "      <th>AREAPOV</th>\n",
       "      <th>AREAMATO</th>\n",
       "      <th>AREAAGRIC</th>\n",
       "      <th>AREATOTAL</th>\n",
       "      <th>REACENDIMENTOS</th>\n",
       "      <th>QUEIMADA</th>\n",
       "      <th>...</th>\n",
       "      <th>AREASFICHEIROS_GTF</th>\n",
       "      <th>FICHEIROIMAGEM_GNR</th>\n",
       "      <th>AREASFICHEIROSHP_GTF</th>\n",
       "      <th>AREASFICHEIROSHPXML_GTF</th>\n",
       "      <th>AREASFICHEIRODBF_GTF</th>\n",
       "      <th>AREASFICHEIROPRJ_GTF</th>\n",
       "      <th>AREASFICHEIROSBN_GTF</th>\n",
       "      <th>AREASFICHEIROSBX_GTF</th>\n",
       "      <th>AREASFICHEIROSHX_GTF</th>\n",
       "      <th>AREASFICHEIROZIP_SAA</th>\n",
       "    </tr>\n",
       "  </thead>\n",
       "  <tbody>\n",
       "    <tr>\n",
       "      <th>5879</th>\n",
       "      <td>5879</td>\n",
       "      <td>Lisboa</td>\n",
       "      <td>Florestal</td>\n",
       "      <td>2021</td>\n",
       "      <td>0.0</td>\n",
       "      <td>0.0</td>\n",
       "      <td>0.0</td>\n",
       "      <td>0.0</td>\n",
       "      <td>0</td>\n",
       "      <td>0</td>\n",
       "      <td>...</td>\n",
       "      <td>NaN</td>\n",
       "      <td>NaN</td>\n",
       "      <td>NaN</td>\n",
       "      <td>NaN</td>\n",
       "      <td>NaN</td>\n",
       "      <td>NaN</td>\n",
       "      <td>NaN</td>\n",
       "      <td>NaN</td>\n",
       "      <td>NaN</td>\n",
       "      <td>NaN</td>\n",
       "    </tr>\n",
       "    <tr>\n",
       "      <th>6711</th>\n",
       "      <td>6711</td>\n",
       "      <td>Vila Real</td>\n",
       "      <td>Florestal</td>\n",
       "      <td>2021</td>\n",
       "      <td>0.0</td>\n",
       "      <td>3.2</td>\n",
       "      <td>0.0</td>\n",
       "      <td>3.2</td>\n",
       "      <td>0</td>\n",
       "      <td>0</td>\n",
       "      <td>...</td>\n",
       "      <td>NaN</td>\n",
       "      <td>NaN</td>\n",
       "      <td>NaN</td>\n",
       "      <td>NaN</td>\n",
       "      <td>NaN</td>\n",
       "      <td>NaN</td>\n",
       "      <td>NaN</td>\n",
       "      <td>NaN</td>\n",
       "      <td>NaN</td>\n",
       "      <td>NaN</td>\n",
       "    </tr>\n",
       "  </tbody>\n",
       "</table>\n",
       "<p>2 rows × 77 columns</p>\n",
       "</div>"
      ],
      "text/plain": [
       "      Unnamed: 0   DISTRITO       TIPO   ANO  AREAPOV  AREAMATO  AREAAGRIC  \\\n",
       "5879        5879     Lisboa  Florestal  2021      0.0       0.0        0.0   \n",
       "6711        6711  Vila Real  Florestal  2021      0.0       3.2        0.0   \n",
       "\n",
       "      AREATOTAL  REACENDIMENTOS  QUEIMADA  ...  AREASFICHEIROS_GTF  \\\n",
       "5879        0.0               0         0  ...                 NaN   \n",
       "6711        3.2               0         0  ...                 NaN   \n",
       "\n",
       "      FICHEIROIMAGEM_GNR  AREASFICHEIROSHP_GTF  AREASFICHEIROSHPXML_GTF  \\\n",
       "5879                 NaN                   NaN                      NaN   \n",
       "6711                 NaN                   NaN                      NaN   \n",
       "\n",
       "      AREASFICHEIRODBF_GTF  AREASFICHEIROPRJ_GTF AREASFICHEIROSBN_GTF  \\\n",
       "5879                   NaN                   NaN                  NaN   \n",
       "6711                   NaN                   NaN                  NaN   \n",
       "\n",
       "     AREASFICHEIROSBX_GTF AREASFICHEIROSHX_GTF AREASFICHEIROZIP_SAA  \n",
       "5879                  NaN                  NaN                  NaN  \n",
       "6711                  NaN                  NaN                  NaN  \n",
       "\n",
       "[2 rows x 77 columns]"
      ]
     },
     "execution_count": 81,
     "metadata": {},
     "output_type": "execute_result"
    }
   ],
   "source": [
    "merged[merged['DURACAO'] < 0]"
   ]
  },
  {
   "cell_type": "markdown",
   "id": "6a296808-5d75-400f-92eb-05b7e13b0706",
   "metadata": {},
   "source": [
    "Two artifacts in this specific field. No need to discard. "
   ]
  },
  {
   "cell_type": "markdown",
   "id": "ebe966e2-d01d-4d35-81ab-2f2d1b9e3125",
   "metadata": {},
   "source": [
    "What's the distribution like?"
   ]
  },
  {
   "cell_type": "code",
   "execution_count": 106,
   "id": "3e62b8b2-186e-4028-af85-5d604e314c82",
   "metadata": {},
   "outputs": [
    {
     "data": {
      "text/plain": [
       "(0.0, 504.0)"
      ]
     },
     "execution_count": 106,
     "metadata": {},
     "output_type": "execute_result"
    },
    {
     "data": {
      "image/png": "[encoded data removed]",
      "text/plain": [
       "<Figure size 432x288 with 1 Axes>"
      ]
     },
     "metadata": {
      "needs_background": "light"
     },
     "output_type": "display_data"
    }
   ],
   "source": [
    "fig, ax = plt.subplots(1, 1)\n",
    "merged['DURACAO'].plot(kind='hist', ax=ax)\n",
    "ax.set_xlim([0, 504]) # 504 hours are 7 days"
   ]
  },
  {
   "cell_type": "code",
   "execution_count": 108,
   "id": "a0b0d948-9128-450c-a119-3117fdf8ed54",
   "metadata": {},
   "outputs": [
    {
     "data": {
      "text/plain": [
       "5.0"
      ]
     },
     "execution_count": 108,
     "metadata": {},
     "output_type": "execute_result"
    }
   ],
   "source": [
    "merged['DURACAO'].quantile(0.01)"
   ]
  },
  {
   "cell_type": "markdown",
   "id": "ec757ca6-09d1-4767-8fcc-ab5af968e7fb",
   "metadata": {},
   "source": [
    "Is there a linear relationship between duration and burnt area?"
   ]
  },
  {
   "cell_type": "code",
   "execution_count": 122,
   "id": "867b11ec-357b-4beb-9bf9-53afc8734854",
   "metadata": {},
   "outputs": [
    {
     "data": {
      "text/plain": [
       "(0.0, 10000.0)"
      ]
     },
     "execution_count": 122,
     "metadata": {},
     "output_type": "execute_result"
    },
    {
     "data": {
      "image/png": "[encoded data removed]",
      "text/plain": [
       "<Figure size 432x288 with 1 Axes>"
      ]
     },
     "metadata": {
      "needs_background": "light"
     },
     "output_type": "display_data"
    }
   ],
   "source": [
    "sns.scatterplot(data=merged[['DURACAO', 'AREATOTAL', 'TIPO']], x='DURACAO', y='AREATOTAL', hue='TIPO')\n",
    "plt.gca().set_xlim([0, 10000])\n",
    "plt.gca().set_ylim([0, 10000])"
   ]
  },
  {
   "cell_type": "markdown",
   "id": "d064d2c1-b895-42e3-8486-d77c759b8bdb",
   "metadata": {},
   "source": [
    "It seems there is a lot of low-spread fires and then some that may take quite a while but do not spread a lot (maybe it's related with how much burnable material they have around them). There are also really weird ratios between duration and total area.... "
   ]
  },
  {
   "cell_type": "code",
   "execution_count": 124,
   "id": "a3afdbdc-864b-40d7-9c26-293f972df587",
   "metadata": {},
   "outputs": [],
   "source": [
    "merged['area_time_ratio'] = merged.apply(lambda x: x['AREATOTAL']/(x['DURACAO']+0.001), axis=1) "
   ]
  },
  {
   "cell_type": "code",
   "execution_count": 126,
   "id": "7ab2a374-4855-4055-9464-711e8efa415f",
   "metadata": {},
   "outputs": [
    {
     "data": {
      "text/plain": [
       "count    96562.000000\n",
       "mean         0.022198\n",
       "std          0.696861\n",
       "min         -0.003203\n",
       "25%          0.000333\n",
       "50%          0.001538\n",
       "75%          0.007692\n",
       "max        156.400000\n",
       "Name: area_time_ratio, dtype: float64"
      ]
     },
     "execution_count": 126,
     "metadata": {},
     "output_type": "execute_result"
    }
   ],
   "source": [
    "merged['area_time_ratio'].describe()"
   ]
  },
  {
   "cell_type": "code",
   "execution_count": 130,
   "id": "204de35b-4b3f-4930-b1fc-91fa175a31b2",
   "metadata": {},
   "outputs": [
    {
     "data": {
      "text/html": [
       "<div>\n",
       "<style scoped>\n",
       "    .dataframe tbody tr th:only-of-type {\n",
       "        vertical-align: middle;\n",
       "    }\n",
       "\n",
       "    .dataframe tbody tr th {\n",
       "        vertical-align: top;\n",
       "    }\n",
       "\n",
       "    .dataframe thead th {\n",
       "        text-align: right;\n",
       "    }\n",
       "</style>\n",
       "<table border=\"1\" class=\"dataframe\">\n",
       "  <thead>\n",
       "    <tr style=\"text-align: right;\">\n",
       "      <th></th>\n",
       "      <th>Unnamed: 0</th>\n",
       "      <th>DISTRITO</th>\n",
       "      <th>TIPO</th>\n",
       "      <th>ANO</th>\n",
       "      <th>AREAPOV</th>\n",
       "      <th>AREAMATO</th>\n",
       "      <th>AREAAGRIC</th>\n",
       "      <th>AREATOTAL</th>\n",
       "      <th>REACENDIMENTOS</th>\n",
       "      <th>QUEIMADA</th>\n",
       "      <th>...</th>\n",
       "      <th>FICHEIROIMAGEM_GNR</th>\n",
       "      <th>AREASFICHEIROSHP_GTF</th>\n",
       "      <th>AREASFICHEIROSHPXML_GTF</th>\n",
       "      <th>AREASFICHEIRODBF_GTF</th>\n",
       "      <th>AREASFICHEIROPRJ_GTF</th>\n",
       "      <th>AREASFICHEIROSBN_GTF</th>\n",
       "      <th>AREASFICHEIROSBX_GTF</th>\n",
       "      <th>AREASFICHEIROSHX_GTF</th>\n",
       "      <th>AREASFICHEIROZIP_SAA</th>\n",
       "      <th>area_time_ratio</th>\n",
       "    </tr>\n",
       "  </thead>\n",
       "  <tbody>\n",
       "    <tr>\n",
       "      <th>6250</th>\n",
       "      <td>6250</td>\n",
       "      <td>Aveiro</td>\n",
       "      <td>Florestal</td>\n",
       "      <td>2017</td>\n",
       "      <td>6470.61</td>\n",
       "      <td>1746.48</td>\n",
       "      <td>756.5400</td>\n",
       "      <td>8973.6300</td>\n",
       "      <td>1</td>\n",
       "      <td>0</td>\n",
       "      <td>...</td>\n",
       "      <td>NaN</td>\n",
       "      <td>NaN</td>\n",
       "      <td>NaN</td>\n",
       "      <td>NaN</td>\n",
       "      <td>NaN</td>\n",
       "      <td>NaN</td>\n",
       "      <td>NaN</td>\n",
       "      <td>NaN</td>\n",
       "      <td>NaN</td>\n",
       "      <td>115.045064</td>\n",
       "    </tr>\n",
       "    <tr>\n",
       "      <th>632</th>\n",
       "      <td>632</td>\n",
       "      <td>Portalegre</td>\n",
       "      <td>Agrícola</td>\n",
       "      <td>2021</td>\n",
       "      <td>0.00</td>\n",
       "      <td>0.00</td>\n",
       "      <td>0.1564</td>\n",
       "      <td>0.1564</td>\n",
       "      <td>0</td>\n",
       "      <td>0</td>\n",
       "      <td>...</td>\n",
       "      <td>NaN</td>\n",
       "      <td>NaN</td>\n",
       "      <td>NaN</td>\n",
       "      <td>NaN</td>\n",
       "      <td>NaN</td>\n",
       "      <td>NaN</td>\n",
       "      <td>NaN</td>\n",
       "      <td>NaN</td>\n",
       "      <td>NaN</td>\n",
       "      <td>156.400000</td>\n",
       "    </tr>\n",
       "  </tbody>\n",
       "</table>\n",
       "<p>2 rows × 78 columns</p>\n",
       "</div>"
      ],
      "text/plain": [
       "      Unnamed: 0    DISTRITO       TIPO   ANO  AREAPOV  AREAMATO  AREAAGRIC  \\\n",
       "6250        6250      Aveiro  Florestal  2017  6470.61   1746.48   756.5400   \n",
       "632          632  Portalegre   Agrícola  2021     0.00      0.00     0.1564   \n",
       "\n",
       "      AREATOTAL  REACENDIMENTOS  QUEIMADA  ...  FICHEIROIMAGEM_GNR  \\\n",
       "6250  8973.6300               1         0  ...                 NaN   \n",
       "632      0.1564               0         0  ...                 NaN   \n",
       "\n",
       "      AREASFICHEIROSHP_GTF  AREASFICHEIROSHPXML_GTF  AREASFICHEIRODBF_GTF  \\\n",
       "6250                   NaN                      NaN                   NaN   \n",
       "632                    NaN                      NaN                   NaN   \n",
       "\n",
       "      AREASFICHEIROPRJ_GTF  AREASFICHEIROSBN_GTF AREASFICHEIROSBX_GTF  \\\n",
       "6250                   NaN                   NaN                  NaN   \n",
       "632                    NaN                   NaN                  NaN   \n",
       "\n",
       "     AREASFICHEIROSHX_GTF AREASFICHEIROZIP_SAA area_time_ratio  \n",
       "6250                  NaN                  NaN      115.045064  \n",
       "632                   NaN                  NaN      156.400000  \n",
       "\n",
       "[2 rows x 78 columns]"
      ]
     },
     "execution_count": 130,
     "metadata": {},
     "output_type": "execute_result"
    }
   ],
   "source": [
    "merged[merged['area_time_ratio'] > 100]"
   ]
  },
  {
   "cell_type": "code",
   "execution_count": 132,
   "id": "c27e1d4c-77c8-40ab-a3fa-9bd015472ece",
   "metadata": {},
   "outputs": [
    {
     "data": {
      "text/plain": [
       "6250    78.0\n",
       "632      0.0\n",
       "Name: DURACAO, dtype: float64"
      ]
     },
     "execution_count": 132,
     "metadata": {},
     "output_type": "execute_result"
    }
   ],
   "source": [
    "merged[merged['area_time_ratio'] > 100]['DURACAO']"
   ]
  },
  {
   "cell_type": "markdown",
   "id": "72238e96-7e38-4c57-bd63-cd70f2230b13",
   "metadata": {},
   "source": [
    "So, it seems that it was a really huge and quick-spreading wildfire or one where the duration information was incorrectly saved. **As the area seems OK and we discard the duration information, I don't see a strong need for filtering here.**"
   ]
  }
 ],
 "metadata": {
  "kernelspec": {
   "display_name": "conda-base",
   "language": "python",
   "name": "conda-base"
  },
  "language_info": {
   "codemirror_mode": {
    "name": "ipython",
    "version": 3
   },
   "file_extension": ".py",
   "mimetype": "text/x-python",
   "name": "python",
   "nbconvert_exporter": "python",
   "pygments_lexer": "ipython3",
   "version": "3.8.5"
  }
 },
 "nbformat": 4,
 "nbformat_minor": 5
}
